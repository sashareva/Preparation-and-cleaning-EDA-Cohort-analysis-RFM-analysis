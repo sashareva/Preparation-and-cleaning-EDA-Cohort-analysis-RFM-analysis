{
 "cells": [
  {
   "cell_type": "markdown",
   "id": "c401797a-365b-444b-90f2-f6731e949805",
   "metadata": {},
   "source": [
    "# Постановка задачи\n"
   ]
  },
  {
   "cell_type": "markdown",
   "id": "331d23f5-b024-4849-97ec-9d2042159972",
   "metadata": {},
   "source": [
    "# Подготовка к анализу"
   ]
  },
  {
   "cell_type": "markdown",
   "id": "1b555b6e-5745-4177-b2eb-c93673615efe",
   "metadata": {},
   "source": [
    "## Подключение библиотек"
   ]
  },
  {
   "cell_type": "code",
   "execution_count": 1,
   "id": "9843a184-f7fb-4c94-a4c6-fccb12995754",
   "metadata": {},
   "outputs": [
    {
     "name": "stdout",
     "output_type": "stream",
     "text": [
      "Requirement already satisfied: pandas in c:\\users\\александра\\appdata\\local\\programs\\python\\python312\\lib\\site-packages (2.2.2)\n",
      "Requirement already satisfied: numpy>=1.26.0 in c:\\users\\александра\\appdata\\local\\programs\\python\\python312\\lib\\site-packages (from pandas) (1.26.4)\n",
      "Requirement already satisfied: python-dateutil>=2.8.2 in c:\\users\\александра\\appdata\\local\\programs\\python\\python312\\lib\\site-packages (from pandas) (2.9.0.post0)\n",
      "Requirement already satisfied: pytz>=2020.1 in c:\\users\\александра\\appdata\\local\\programs\\python\\python312\\lib\\site-packages (from pandas) (2024.1)\n",
      "Requirement already satisfied: tzdata>=2022.7 in c:\\users\\александра\\appdata\\local\\programs\\python\\python312\\lib\\site-packages (from pandas) (2024.1)\n",
      "Requirement already satisfied: six>=1.5 in c:\\users\\александра\\appdata\\local\\programs\\python\\python312\\lib\\site-packages (from python-dateutil>=2.8.2->pandas) (1.16.0)\n",
      "Requirement already satisfied: numpy in c:\\users\\александра\\appdata\\local\\programs\\python\\python312\\lib\\site-packages (1.26.4)\n",
      "Requirement already satisfied: matplotlib in c:\\users\\александра\\appdata\\local\\programs\\python\\python312\\lib\\site-packages (3.9.0)\n",
      "Requirement already satisfied: contourpy>=1.0.1 in c:\\users\\александра\\appdata\\local\\programs\\python\\python312\\lib\\site-packages (from matplotlib) (1.2.1)\n",
      "Requirement already satisfied: cycler>=0.10 in c:\\users\\александра\\appdata\\local\\programs\\python\\python312\\lib\\site-packages (from matplotlib) (0.12.1)\n",
      "Requirement already satisfied: fonttools>=4.22.0 in c:\\users\\александра\\appdata\\local\\programs\\python\\python312\\lib\\site-packages (from matplotlib) (4.53.0)\n",
      "Requirement already satisfied: kiwisolver>=1.3.1 in c:\\users\\александра\\appdata\\local\\programs\\python\\python312\\lib\\site-packages (from matplotlib) (1.4.5)\n",
      "Requirement already satisfied: numpy>=1.23 in c:\\users\\александра\\appdata\\local\\programs\\python\\python312\\lib\\site-packages (from matplotlib) (1.26.4)\n",
      "Requirement already satisfied: packaging>=20.0 in c:\\users\\александра\\appdata\\local\\programs\\python\\python312\\lib\\site-packages (from matplotlib) (24.0)\n",
      "Requirement already satisfied: pillow>=8 in c:\\users\\александра\\appdata\\local\\programs\\python\\python312\\lib\\site-packages (from matplotlib) (10.3.0)\n",
      "Requirement already satisfied: pyparsing>=2.3.1 in c:\\users\\александра\\appdata\\local\\programs\\python\\python312\\lib\\site-packages (from matplotlib) (3.1.2)\n",
      "Requirement already satisfied: python-dateutil>=2.7 in c:\\users\\александра\\appdata\\local\\programs\\python\\python312\\lib\\site-packages (from matplotlib) (2.9.0.post0)\n",
      "Requirement already satisfied: six>=1.5 in c:\\users\\александра\\appdata\\local\\programs\\python\\python312\\lib\\site-packages (from python-dateutil>=2.7->matplotlib) (1.16.0)\n",
      "Requirement already satisfied: seaborn in c:\\users\\александра\\appdata\\local\\programs\\python\\python312\\lib\\site-packages (0.13.2)\n",
      "Requirement already satisfied: numpy!=1.24.0,>=1.20 in c:\\users\\александра\\appdata\\local\\programs\\python\\python312\\lib\\site-packages (from seaborn) (1.26.4)\n",
      "Requirement already satisfied: pandas>=1.2 in c:\\users\\александра\\appdata\\local\\programs\\python\\python312\\lib\\site-packages (from seaborn) (2.2.2)\n",
      "Requirement already satisfied: matplotlib!=3.6.1,>=3.4 in c:\\users\\александра\\appdata\\local\\programs\\python\\python312\\lib\\site-packages (from seaborn) (3.9.0)\n",
      "Requirement already satisfied: contourpy>=1.0.1 in c:\\users\\александра\\appdata\\local\\programs\\python\\python312\\lib\\site-packages (from matplotlib!=3.6.1,>=3.4->seaborn) (1.2.1)\n",
      "Requirement already satisfied: cycler>=0.10 in c:\\users\\александра\\appdata\\local\\programs\\python\\python312\\lib\\site-packages (from matplotlib!=3.6.1,>=3.4->seaborn) (0.12.1)\n",
      "Requirement already satisfied: fonttools>=4.22.0 in c:\\users\\александра\\appdata\\local\\programs\\python\\python312\\lib\\site-packages (from matplotlib!=3.6.1,>=3.4->seaborn) (4.53.0)\n",
      "Requirement already satisfied: kiwisolver>=1.3.1 in c:\\users\\александра\\appdata\\local\\programs\\python\\python312\\lib\\site-packages (from matplotlib!=3.6.1,>=3.4->seaborn) (1.4.5)\n",
      "Requirement already satisfied: packaging>=20.0 in c:\\users\\александра\\appdata\\local\\programs\\python\\python312\\lib\\site-packages (from matplotlib!=3.6.1,>=3.4->seaborn) (24.0)\n",
      "Requirement already satisfied: pillow>=8 in c:\\users\\александра\\appdata\\local\\programs\\python\\python312\\lib\\site-packages (from matplotlib!=3.6.1,>=3.4->seaborn) (10.3.0)\n",
      "Requirement already satisfied: pyparsing>=2.3.1 in c:\\users\\александра\\appdata\\local\\programs\\python\\python312\\lib\\site-packages (from matplotlib!=3.6.1,>=3.4->seaborn) (3.1.2)\n",
      "Requirement already satisfied: python-dateutil>=2.7 in c:\\users\\александра\\appdata\\local\\programs\\python\\python312\\lib\\site-packages (from matplotlib!=3.6.1,>=3.4->seaborn) (2.9.0.post0)\n",
      "Requirement already satisfied: pytz>=2020.1 in c:\\users\\александра\\appdata\\local\\programs\\python\\python312\\lib\\site-packages (from pandas>=1.2->seaborn) (2024.1)\n",
      "Requirement already satisfied: tzdata>=2022.7 in c:\\users\\александра\\appdata\\local\\programs\\python\\python312\\lib\\site-packages (from pandas>=1.2->seaborn) (2024.1)\n",
      "Requirement already satisfied: six>=1.5 in c:\\users\\александра\\appdata\\local\\programs\\python\\python312\\lib\\site-packages (from python-dateutil>=2.7->matplotlib!=3.6.1,>=3.4->seaborn) (1.16.0)\n",
      "Requirement already satisfied: plotly-express in c:\\users\\александра\\appdata\\local\\programs\\python\\python312\\lib\\site-packages (0.4.1)\n",
      "Requirement already satisfied: pandas>=0.20.0 in c:\\users\\александра\\appdata\\local\\programs\\python\\python312\\lib\\site-packages (from plotly-express) (2.2.2)\n",
      "Requirement already satisfied: plotly>=4.1.0 in c:\\users\\александра\\appdata\\local\\programs\\python\\python312\\lib\\site-packages (from plotly-express) (5.22.0)\n",
      "Requirement already satisfied: statsmodels>=0.9.0 in c:\\users\\александра\\appdata\\local\\programs\\python\\python312\\lib\\site-packages (from plotly-express) (0.14.2)\n",
      "Requirement already satisfied: scipy>=0.18 in c:\\users\\александра\\appdata\\local\\programs\\python\\python312\\lib\\site-packages (from plotly-express) (1.13.1)\n",
      "Requirement already satisfied: patsy>=0.5 in c:\\users\\александра\\appdata\\local\\programs\\python\\python312\\lib\\site-packages (from plotly-express) (0.5.6)\n",
      "Requirement already satisfied: numpy>=1.11 in c:\\users\\александра\\appdata\\local\\programs\\python\\python312\\lib\\site-packages (from plotly-express) (1.26.4)\n",
      "Requirement already satisfied: python-dateutil>=2.8.2 in c:\\users\\александра\\appdata\\local\\programs\\python\\python312\\lib\\site-packages (from pandas>=0.20.0->plotly-express) (2.9.0.post0)\n",
      "Requirement already satisfied: pytz>=2020.1 in c:\\users\\александра\\appdata\\local\\programs\\python\\python312\\lib\\site-packages (from pandas>=0.20.0->plotly-express) (2024.1)\n",
      "Requirement already satisfied: tzdata>=2022.7 in c:\\users\\александра\\appdata\\local\\programs\\python\\python312\\lib\\site-packages (from pandas>=0.20.0->plotly-express) (2024.1)\n",
      "Requirement already satisfied: six in c:\\users\\александра\\appdata\\local\\programs\\python\\python312\\lib\\site-packages (from patsy>=0.5->plotly-express) (1.16.0)\n",
      "Requirement already satisfied: tenacity>=6.2.0 in c:\\users\\александра\\appdata\\local\\programs\\python\\python312\\lib\\site-packages (from plotly>=4.1.0->plotly-express) (8.3.0)\n",
      "Requirement already satisfied: packaging in c:\\users\\александра\\appdata\\local\\programs\\python\\python312\\lib\\site-packages (from plotly>=4.1.0->plotly-express) (24.0)\n"
     ]
    }
   ],
   "source": [
    "!pip install pandas \n",
    "!pip install numpy\n",
    "!pip install matplotlib\n",
    "#!pip install datetime\n",
    "!pip install seaborn\n",
    "!pip install plotly-express\n",
    "\n",
    "import pandas as pd \n",
    "import numpy as np\n",
    "import matplotlib.pyplot as plt\n",
    "#import datetime as dt\n",
    "import seaborn as sns\n",
    "import plotly.express as px"
   ]
  },
  {
   "cell_type": "markdown",
   "id": "b7dcbe1f-9cf0-4b82-a3b9-23a3742662a1",
   "metadata": {},
   "source": [
    "## Создание вспомогательных функций\n",
    "\n",
    "Создадим функции, которые упростят процесс вывода всей необходимой информации о датасете."
   ]
  },
  {
   "cell_type": "code",
   "execution_count": 2,
   "id": "7204d511-30ab-4659-909e-7ee0f0e706a8",
   "metadata": {},
   "outputs": [],
   "source": [
    "# Функция для обзора датасета\n",
    "def overview_df(df):\n",
    "    print(\" HEAD OF DATAFRAME \".center(100,'-'), '\\n', df.head())\n",
    "    print(\" INFO OF DATAFRAME \".center(100,'-'))\n",
    "    df.info()\n",
    "    print(\" SHAPE \".center(100,'-'), '\\n', 'Rows: {}'.format(df.shape[0]), '\\n', 'Columns: {}'.format(df.shape[1]))\n",
    "    print(\" TYPES \".center(100,'-'), '\\n', df.dtypes)\n",
    "    print(\" NUMBER OF UNIQUES \".center(100,'-'), '\\n', df.nunique())\n",
    "    print(\" MISSING VALUES \".center(100,'-'), '\\n', missing_values(df))\n",
    "    print(\" DUPLICATED VALUES \".center(100,'-'), '\\n', cheking_duplicates(df))\n",
    "    print(\" DESCRIPTIVE STATISTICS \".center(100,'-'), '\\n', df.describe().T)\n",
    "\n",
    "# Функция для поиска пропущенных значений\n",
    "def missing_values(df):\n",
    "    mn = df.isnull().sum().sort_values(ascending = False)\n",
    "    mp = (df.isnull().sum()/df.isnull().count()*100).sort_values(ascending = False)\n",
    "    missing_values = pd.concat([mn, mp], axis = 1, keys = ['Missing_Number', 'Missing_Percent'])\n",
    "    if mn.sum() > 0:\n",
    "        return missing_values[missing_values['Missing_Number'] > 0]\n",
    "    else:\n",
    "        return 'There are no missing values.'\n",
    "\n",
    "# Функция для проверки и подсчета количества дубликатов\n",
    "def cheking_duplicates(df):\n",
    "    duplicate_values = df.duplicated(keep = 'first').sum()\n",
    "    if duplicate_values > 0:\n",
    "        df.drop_duplicates(keep='first', inplace = True)\n",
    "        return 'The number of duplicated values is ' + str(duplicate_values) + '. Duplicates were dropped. New shape is ' + str(df.shape)\n",
    "    else:\n",
    "        return 'There are no duplicate values.'"
   ]
  },
  {
   "cell_type": "markdown",
   "id": "39f763bd-f72c-43b1-aa8b-45acf384ffa3",
   "metadata": {},
   "source": [
    "# Первичный обзор датасета\n",
    "\n",
    "С помощью написанной функции overview_df(df) выведем всю информацию о датасете."
   ]
  },
  {
   "cell_type": "code",
   "execution_count": 3,
   "id": "0f567ee8-6aab-4bff-85e2-37c38bf2e06a",
   "metadata": {},
   "outputs": [
    {
     "name": "stdout",
     "output_type": "stream",
     "text": [
      "---------------------------------------- HEAD OF DATAFRAME ----------------------------------------- \n",
      "            InvoiceDate InvoiceNo StockCode  \\\n",
      "0  2010-12-01 08:26:00    536365    85123A   \n",
      "1  2010-12-01 08:26:00    536365     71053   \n",
      "2  2010-12-01 08:26:00    536365    84406B   \n",
      "3  2010-12-01 08:26:00    536365    84029G   \n",
      "4  2010-12-01 08:26:00    536365    84029E   \n",
      "\n",
      "                           Description  Quantity  UnitPrice  CustomerID  Age  \\\n",
      "0   WHITE HANGING HEART T-LIGHT HOLDER         6       2.55     17850.0   77   \n",
      "1                  WHITE METAL LANTERN         6       3.39     17850.0   77   \n",
      "2       CREAM CUPID HEARTS COAT HANGER         8       2.75     17850.0   77   \n",
      "3  KNITTED UNION FLAG HOT WATER BOTTLE         6       3.39     17850.0   77   \n",
      "4       RED WOOLLY HOTTIE WHITE HEART.         6       3.39     17850.0   77   \n",
      "\n",
      "   Gender        Income         Country  \n",
      "0  female  26300.794657  United Kingdom  \n",
      "1  female  26300.794657  United Kingdom  \n",
      "2  female  26300.794657  United Kingdom  \n",
      "3  female  26300.794657  United Kingdom  \n",
      "4  female  26300.794657  United Kingdom  \n",
      "---------------------------------------- INFO OF DATAFRAME -----------------------------------------\n",
      "<class 'pandas.core.frame.DataFrame'>\n",
      "RangeIndex: 541909 entries, 0 to 541908\n",
      "Data columns (total 11 columns):\n",
      " #   Column       Non-Null Count   Dtype  \n",
      "---  ------       --------------   -----  \n",
      " 0   InvoiceDate  541909 non-null  object \n",
      " 1   InvoiceNo    541909 non-null  object \n",
      " 2   StockCode    541909 non-null  object \n",
      " 3   Description  540455 non-null  object \n",
      " 4   Quantity     541909 non-null  int64  \n",
      " 5   UnitPrice    541909 non-null  float64\n",
      " 6   CustomerID   406829 non-null  float64\n",
      " 7   Age          541909 non-null  int64  \n",
      " 8   Gender       541909 non-null  object \n",
      " 9   Income       541909 non-null  float64\n",
      " 10  Country      541909 non-null  object \n",
      "dtypes: float64(3), int64(2), object(6)\n",
      "memory usage: 45.5+ MB\n",
      "---------------------------------------------- SHAPE ----------------------------------------------- \n",
      " Rows: 541909 \n",
      " Columns: 11\n",
      "---------------------------------------------- TYPES ----------------------------------------------- \n",
      " InvoiceDate     object\n",
      "InvoiceNo       object\n",
      "StockCode       object\n",
      "Description     object\n",
      "Quantity         int64\n",
      "UnitPrice      float64\n",
      "CustomerID     float64\n",
      "Age              int64\n",
      "Gender          object\n",
      "Income         float64\n",
      "Country         object\n",
      "dtype: object\n",
      "---------------------------------------- NUMBER OF UNIQUES ----------------------------------------- \n",
      " InvoiceDate    23260\n",
      "InvoiceNo      25900\n",
      "StockCode       4070\n",
      "Description     4223\n",
      "Quantity         722\n",
      "UnitPrice       1630\n",
      "CustomerID      4372\n",
      "Age               80\n",
      "Gender             2\n",
      "Income          4373\n",
      "Country           38\n",
      "dtype: int64\n",
      "------------------------------------------ MISSING VALUES ------------------------------------------ \n",
      "              Missing_Number  Missing_Percent\n",
      "CustomerID           135080        24.926694\n",
      "Description            1454         0.268311\n",
      "---------------------------------------- DUPLICATED VALUES ----------------------------------------- \n",
      " The number of duplicated values is 5268. Duplicates were dropped. New shape is (536641, 11)\n",
      "-------------------------------------- DESCRIPTIVE STATISTICS -------------------------------------- \n",
      "                count          mean          std           min           25%  \\\n",
      "Quantity    536641.0      9.620029   219.130156 -80995.000000      1.000000   \n",
      "UnitPrice   536641.0      4.632656    97.233118 -11062.060000      1.250000   \n",
      "CustomerID  401604.0  15281.160818  1714.006089  12346.000000  13939.000000   \n",
      "Age         536641.0     34.855714    12.984770     15.000000     25.000000   \n",
      "Income      536641.0  33126.835198  5611.766674  18662.725643  32130.475292   \n",
      "\n",
      "                     50%           75%           max  \n",
      "Quantity        3.000000     10.000000  80995.000000  \n",
      "UnitPrice       2.080000      4.130000  38970.000000  \n",
      "CustomerID  15145.000000  16784.000000  18287.000000  \n",
      "Age            31.000000     43.000000    100.000000  \n",
      "Income      32428.619135  33789.047429  45925.206366  \n"
     ]
    }
   ],
   "source": [
    "df0 = pd.read_csv(r'C:\\Users\\Александра\\Desktop\\customer.csv')\n",
    "df = df0.copy()\n",
    "\n",
    "overview_df(df)"
   ]
  },
  {
   "cell_type": "markdown",
   "id": "5d659834-eb36-4f9a-88fd-2ab5e2fcaf2b",
   "metadata": {},
   "source": [
    "# Предварительная обработка данных"
   ]
  },
  {
   "cell_type": "markdown",
   "id": "8322bf98-20a7-4ad9-bd2d-54dd2fdab403",
   "metadata": {},
   "source": [
    "## Очистка данных"
   ]
  },
  {
   "cell_type": "markdown",
   "id": "bce25aa2-bb78-4430-ac44-383e84b0a5b0",
   "metadata": {},
   "source": [
    "### Ошибки в данных"
   ]
  },
  {
   "cell_type": "markdown",
   "id": "c33f3d58-ad89-463d-9229-02615a72303a",
   "metadata": {},
   "source": [
    "### Пропущенные значения "
   ]
  },
  {
   "cell_type": "markdown",
   "id": "4d50294c-b907-4a68-9cc0-6d11d35efbb6",
   "metadata": {},
   "source": [
    "### Пропуски во временных рядах "
   ]
  },
  {
   "cell_type": "markdown",
   "id": "89214b57-f066-4fb7-9906-693d184f02ad",
   "metadata": {},
   "source": [
    "## Преобразование данных"
   ]
  },
  {
   "cell_type": "markdown",
   "id": "7b4d319b-3dea-4c5b-9b3d-e7054304f3d4",
   "metadata": {},
   "source": [
    "### Преобразование количественных данных"
   ]
  },
  {
   "cell_type": "markdown",
   "id": "89afdd1c-7439-4f24-b5c5-a7a2267ea603",
   "metadata": {},
   "source": [
    "### Работа с выбросами"
   ]
  },
  {
   "cell_type": "markdown",
   "id": "c1861871-4c31-4a69-a438-1932ceb2bc5b",
   "metadata": {},
   "source": [
    "# Вторичный обзор датасета после базовой чистки данных"
   ]
  },
  {
   "cell_type": "code",
   "execution_count": 4,
   "id": "9efe9d6c-ca25-4b2d-ad43-34ac498edabc",
   "metadata": {},
   "outputs": [
    {
     "name": "stdout",
     "output_type": "stream",
     "text": [
      "---------------------------------------- HEAD OF DATAFRAME ----------------------------------------- \n",
      "            InvoiceDate InvoiceNo StockCode  \\\n",
      "0  2010-12-01 08:26:00    536365    85123A   \n",
      "1  2010-12-01 08:26:00    536365     71053   \n",
      "2  2010-12-01 08:26:00    536365    84406B   \n",
      "3  2010-12-01 08:26:00    536365    84029G   \n",
      "4  2010-12-01 08:26:00    536365    84029E   \n",
      "\n",
      "                           Description  Quantity  UnitPrice  CustomerID  Age  \\\n",
      "0   WHITE HANGING HEART T-LIGHT HOLDER         6       2.55     17850.0   77   \n",
      "1                  WHITE METAL LANTERN         6       3.39     17850.0   77   \n",
      "2       CREAM CUPID HEARTS COAT HANGER         8       2.75     17850.0   77   \n",
      "3  KNITTED UNION FLAG HOT WATER BOTTLE         6       3.39     17850.0   77   \n",
      "4       RED WOOLLY HOTTIE WHITE HEART.         6       3.39     17850.0   77   \n",
      "\n",
      "   Gender        Income         Country  \n",
      "0  female  26300.794657  United Kingdom  \n",
      "1  female  26300.794657  United Kingdom  \n",
      "2  female  26300.794657  United Kingdom  \n",
      "3  female  26300.794657  United Kingdom  \n",
      "4  female  26300.794657  United Kingdom  \n",
      "---------------------------------------- INFO OF DATAFRAME -----------------------------------------\n",
      "<class 'pandas.core.frame.DataFrame'>\n",
      "Index: 536641 entries, 0 to 541908\n",
      "Data columns (total 11 columns):\n",
      " #   Column       Non-Null Count   Dtype  \n",
      "---  ------       --------------   -----  \n",
      " 0   InvoiceDate  536641 non-null  object \n",
      " 1   InvoiceNo    536641 non-null  object \n",
      " 2   StockCode    536641 non-null  object \n",
      " 3   Description  535187 non-null  object \n",
      " 4   Quantity     536641 non-null  int64  \n",
      " 5   UnitPrice    536641 non-null  float64\n",
      " 6   CustomerID   401604 non-null  float64\n",
      " 7   Age          536641 non-null  int64  \n",
      " 8   Gender       536641 non-null  object \n",
      " 9   Income       536641 non-null  float64\n",
      " 10  Country      536641 non-null  object \n",
      "dtypes: float64(3), int64(2), object(6)\n",
      "memory usage: 49.1+ MB\n",
      "---------------------------------------------- SHAPE ----------------------------------------------- \n",
      " Rows: 536641 \n",
      " Columns: 11\n",
      "---------------------------------------------- TYPES ----------------------------------------------- \n",
      " InvoiceDate     object\n",
      "InvoiceNo       object\n",
      "StockCode       object\n",
      "Description     object\n",
      "Quantity         int64\n",
      "UnitPrice      float64\n",
      "CustomerID     float64\n",
      "Age              int64\n",
      "Gender          object\n",
      "Income         float64\n",
      "Country         object\n",
      "dtype: object\n",
      "---------------------------------------- NUMBER OF UNIQUES ----------------------------------------- \n",
      " InvoiceDate    23260\n",
      "InvoiceNo      25900\n",
      "StockCode       4070\n",
      "Description     4223\n",
      "Quantity         722\n",
      "UnitPrice       1630\n",
      "CustomerID      4372\n",
      "Age               80\n",
      "Gender             2\n",
      "Income          4373\n",
      "Country           38\n",
      "dtype: int64\n",
      "------------------------------------------ MISSING VALUES ------------------------------------------ \n",
      "              Missing_Number  Missing_Percent\n",
      "CustomerID           135037        25.163377\n",
      "Description            1454         0.270945\n",
      "---------------------------------------- DUPLICATED VALUES ----------------------------------------- \n",
      " There are no duplicate values.\n",
      "-------------------------------------- DESCRIPTIVE STATISTICS -------------------------------------- \n",
      "                count          mean          std           min           25%  \\\n",
      "Quantity    536641.0      9.620029   219.130156 -80995.000000      1.000000   \n",
      "UnitPrice   536641.0      4.632656    97.233118 -11062.060000      1.250000   \n",
      "CustomerID  401604.0  15281.160818  1714.006089  12346.000000  13939.000000   \n",
      "Age         536641.0     34.855714    12.984770     15.000000     25.000000   \n",
      "Income      536641.0  33126.835198  5611.766674  18662.725643  32130.475292   \n",
      "\n",
      "                     50%           75%           max  \n",
      "Quantity        3.000000     10.000000  80995.000000  \n",
      "UnitPrice       2.080000      4.130000  38970.000000  \n",
      "CustomerID  15145.000000  16784.000000  18287.000000  \n",
      "Age            31.000000     43.000000    100.000000  \n",
      "Income      32428.619135  33789.047429  45925.206366  \n"
     ]
    }
   ],
   "source": [
    "# Вывод обзора датасета с помощью той же написанной функции\n",
    "overview_df(df)"
   ]
  },
  {
   "cell_type": "markdown",
   "id": "9e4a0633-2828-492f-950d-dd4a7a91fcc8",
   "metadata": {},
   "source": [
    "# Исследовательский анализ данных (Exploratory Data Analysis - EDA)\n",
    "\n",
    "Дубликаты уже были посчитаны и удалены во время составления первичного обзора датасета. \n",
    "Далее перейдем к 1-му этапу EDA -- описанию данных, содержащихся в каждом из столбцов, и разберемся, какие из них и почему необходимо почистить.\n",
    "Почередно проверим, все ли данные из столбцов подходят для анализа, и сделаем выводы о полученной информации."
   ]
  },
  {
   "cell_type": "markdown",
   "id": "b00ef2a6-f9d8-4dc4-8af1-eac758ca2f98",
   "metadata": {},
   "source": [
    "## 1 этап -- описание данных"
   ]
  },
  {
   "cell_type": "markdown",
   "id": "08a72a29-b91c-4d57-93b3-b12392610178",
   "metadata": {},
   "source": [
    "### Категориальные данные\n"
   ]
  },
  {
   "cell_type": "markdown",
   "id": "c2406afe-e170-44d5-a0e5-6c4ea103c56e",
   "metadata": {},
   "source": [
    "#### Столбец 3 'Description'"
   ]
  },
  {
   "cell_type": "code",
   "execution_count": 5,
   "id": "d3a7e41e-aa64-4dc6-8ace-63b59293801a",
   "metadata": {},
   "outputs": [
    {
     "data": {
      "text/plain": [
       "4223"
      ]
     },
     "execution_count": 5,
     "metadata": {},
     "output_type": "execute_result"
    }
   ],
   "source": [
    "# Проверка количества уникальных описаний товаров (Description) среди всех записей о продажах\n",
    "df.Description.nunique()"
   ]
  },
  {
   "cell_type": "code",
   "execution_count": 6,
   "id": "66e754f1-7dc3-4905-a3d3-1f9ca6ff7e9a",
   "metadata": {},
   "outputs": [
    {
     "data": {
      "text/plain": [
       "Description\n",
       "WHITE HANGING HEART T-LIGHT HOLDER    2357\n",
       "REGENCY CAKESTAND 3 TIER              2189\n",
       "JUMBO BAG RED RETROSPOT               2156\n",
       "PARTY BUNTING                         1720\n",
       "LUNCH BAG RED RETROSPOT               1625\n",
       "ASSORTED COLOUR BIRD ORNAMENT         1488\n",
       "SET OF 3 CAKE TINS PANTRY DESIGN      1465\n",
       "PACK OF 72 RETROSPOT CAKE CASES       1367\n",
       "LUNCH BAG  BLACK SKULL.               1323\n",
       "NATURAL SLATE HEART CHALKBOARD        1272\n",
       "Name: count, dtype: int64"
      ]
     },
     "execution_count": 6,
     "metadata": {},
     "output_type": "execute_result"
    }
   ],
   "source": [
    "# Топ-10 проданных \"описаний\" товаров (Description)\n",
    "df.Description.value_counts().head(10)"
   ]
  },
  {
   "cell_type": "markdown",
   "id": "fa083982-aa18-4baa-8286-334ede7e3fb8",
   "metadata": {},
   "source": [
    "Обратим внимание, что бывают записи, в которых описания товаров (Description) содержат некоторую информацию, не относящуюся к продажам. "
   ]
  },
  {
   "cell_type": "code",
   "execution_count": 7,
   "id": "88525f88-2386-4bef-8aff-53cc2a6c85e3",
   "metadata": {},
   "outputs": [
    {
     "data": {
      "text/html": [
       "<div>\n",
       "<style scoped>\n",
       "    .dataframe tbody tr th:only-of-type {\n",
       "        vertical-align: middle;\n",
       "    }\n",
       "\n",
       "    .dataframe tbody tr th {\n",
       "        vertical-align: top;\n",
       "    }\n",
       "\n",
       "    .dataframe thead th {\n",
       "        text-align: right;\n",
       "    }\n",
       "</style>\n",
       "<table border=\"1\" class=\"dataframe\">\n",
       "  <thead>\n",
       "    <tr style=\"text-align: right;\">\n",
       "      <th></th>\n",
       "      <th>InvoiceDate</th>\n",
       "      <th>InvoiceNo</th>\n",
       "      <th>StockCode</th>\n",
       "      <th>Description</th>\n",
       "      <th>Quantity</th>\n",
       "      <th>UnitPrice</th>\n",
       "      <th>CustomerID</th>\n",
       "      <th>Age</th>\n",
       "      <th>Gender</th>\n",
       "      <th>Income</th>\n",
       "      <th>Country</th>\n",
       "    </tr>\n",
       "  </thead>\n",
       "  <tbody>\n",
       "    <tr>\n",
       "      <th>7313</th>\n",
       "      <td>2010-12-03 16:50:00</td>\n",
       "      <td>537032</td>\n",
       "      <td>21275</td>\n",
       "      <td>?</td>\n",
       "      <td>-30</td>\n",
       "      <td>0.0</td>\n",
       "      <td>NaN</td>\n",
       "      <td>25</td>\n",
       "      <td>female</td>\n",
       "      <td>32130.475292</td>\n",
       "      <td>United Kingdom</td>\n",
       "    </tr>\n",
       "    <tr>\n",
       "      <th>21518</th>\n",
       "      <td>2010-12-09 14:48:00</td>\n",
       "      <td>538090</td>\n",
       "      <td>20956</td>\n",
       "      <td>?</td>\n",
       "      <td>-723</td>\n",
       "      <td>0.0</td>\n",
       "      <td>NaN</td>\n",
       "      <td>25</td>\n",
       "      <td>female</td>\n",
       "      <td>32130.475292</td>\n",
       "      <td>United Kingdom</td>\n",
       "    </tr>\n",
       "    <tr>\n",
       "      <th>38261</th>\n",
       "      <td>2010-12-20 10:36:00</td>\n",
       "      <td>539494</td>\n",
       "      <td>21479</td>\n",
       "      <td>?</td>\n",
       "      <td>752</td>\n",
       "      <td>0.0</td>\n",
       "      <td>NaN</td>\n",
       "      <td>25</td>\n",
       "      <td>female</td>\n",
       "      <td>32130.475292</td>\n",
       "      <td>United Kingdom</td>\n",
       "    </tr>\n",
       "    <tr>\n",
       "      <th>43662</th>\n",
       "      <td>2011-01-04 16:53:00</td>\n",
       "      <td>540100</td>\n",
       "      <td>22837</td>\n",
       "      <td>?</td>\n",
       "      <td>-106</td>\n",
       "      <td>0.0</td>\n",
       "      <td>NaN</td>\n",
       "      <td>25</td>\n",
       "      <td>female</td>\n",
       "      <td>32130.475292</td>\n",
       "      <td>United Kingdom</td>\n",
       "    </tr>\n",
       "    <tr>\n",
       "      <th>50806</th>\n",
       "      <td>2011-01-10 10:04:00</td>\n",
       "      <td>540558</td>\n",
       "      <td>21258</td>\n",
       "      <td>?</td>\n",
       "      <td>-29</td>\n",
       "      <td>0.0</td>\n",
       "      <td>NaN</td>\n",
       "      <td>25</td>\n",
       "      <td>female</td>\n",
       "      <td>32130.475292</td>\n",
       "      <td>United Kingdom</td>\n",
       "    </tr>\n",
       "    <tr>\n",
       "      <th>...</th>\n",
       "      <td>...</td>\n",
       "      <td>...</td>\n",
       "      <td>...</td>\n",
       "      <td>...</td>\n",
       "      <td>...</td>\n",
       "      <td>...</td>\n",
       "      <td>...</td>\n",
       "      <td>...</td>\n",
       "      <td>...</td>\n",
       "      <td>...</td>\n",
       "      <td>...</td>\n",
       "    </tr>\n",
       "    <tr>\n",
       "      <th>497819</th>\n",
       "      <td>2011-11-24 12:45:00</td>\n",
       "      <td>578476</td>\n",
       "      <td>72807B</td>\n",
       "      <td>????missing</td>\n",
       "      <td>-124</td>\n",
       "      <td>0.0</td>\n",
       "      <td>NaN</td>\n",
       "      <td>25</td>\n",
       "      <td>female</td>\n",
       "      <td>32130.475292</td>\n",
       "      <td>United Kingdom</td>\n",
       "    </tr>\n",
       "    <tr>\n",
       "      <th>497820</th>\n",
       "      <td>2011-11-24 12:45:00</td>\n",
       "      <td>578477</td>\n",
       "      <td>72807A</td>\n",
       "      <td>???missing</td>\n",
       "      <td>-224</td>\n",
       "      <td>0.0</td>\n",
       "      <td>NaN</td>\n",
       "      <td>25</td>\n",
       "      <td>female</td>\n",
       "      <td>32130.475292</td>\n",
       "      <td>United Kingdom</td>\n",
       "    </tr>\n",
       "    <tr>\n",
       "      <th>497821</th>\n",
       "      <td>2011-11-24 12:45:00</td>\n",
       "      <td>578478</td>\n",
       "      <td>72807C</td>\n",
       "      <td>???missing</td>\n",
       "      <td>-428</td>\n",
       "      <td>0.0</td>\n",
       "      <td>NaN</td>\n",
       "      <td>25</td>\n",
       "      <td>female</td>\n",
       "      <td>32130.475292</td>\n",
       "      <td>United Kingdom</td>\n",
       "    </tr>\n",
       "    <tr>\n",
       "      <th>524370</th>\n",
       "      <td>2011-12-05 09:29:00</td>\n",
       "      <td>580547</td>\n",
       "      <td>21201</td>\n",
       "      <td>???</td>\n",
       "      <td>-390</td>\n",
       "      <td>0.0</td>\n",
       "      <td>NaN</td>\n",
       "      <td>25</td>\n",
       "      <td>female</td>\n",
       "      <td>32130.475292</td>\n",
       "      <td>United Kingdom</td>\n",
       "    </tr>\n",
       "    <tr>\n",
       "      <th>535327</th>\n",
       "      <td>2011-12-07 18:32:00</td>\n",
       "      <td>581204</td>\n",
       "      <td>85104</td>\n",
       "      <td>????damages????</td>\n",
       "      <td>-355</td>\n",
       "      <td>0.0</td>\n",
       "      <td>NaN</td>\n",
       "      <td>25</td>\n",
       "      <td>female</td>\n",
       "      <td>32130.475292</td>\n",
       "      <td>United Kingdom</td>\n",
       "    </tr>\n",
       "  </tbody>\n",
       "</table>\n",
       "<p>67 rows × 11 columns</p>\n",
       "</div>"
      ],
      "text/plain": [
       "                InvoiceDate InvoiceNo StockCode      Description  Quantity  \\\n",
       "7313    2010-12-03 16:50:00    537032     21275                ?       -30   \n",
       "21518   2010-12-09 14:48:00    538090     20956                ?      -723   \n",
       "38261   2010-12-20 10:36:00    539494     21479                ?       752   \n",
       "43662   2011-01-04 16:53:00    540100     22837                ?      -106   \n",
       "50806   2011-01-10 10:04:00    540558     21258                ?       -29   \n",
       "...                     ...       ...       ...              ...       ...   \n",
       "497819  2011-11-24 12:45:00    578476    72807B      ????missing      -124   \n",
       "497820  2011-11-24 12:45:00    578477    72807A       ???missing      -224   \n",
       "497821  2011-11-24 12:45:00    578478    72807C       ???missing      -428   \n",
       "524370  2011-12-05 09:29:00    580547     21201              ???      -390   \n",
       "535327  2011-12-07 18:32:00    581204     85104  ????damages????      -355   \n",
       "\n",
       "        UnitPrice  CustomerID  Age  Gender        Income         Country  \n",
       "7313          0.0         NaN   25  female  32130.475292  United Kingdom  \n",
       "21518         0.0         NaN   25  female  32130.475292  United Kingdom  \n",
       "38261         0.0         NaN   25  female  32130.475292  United Kingdom  \n",
       "43662         0.0         NaN   25  female  32130.475292  United Kingdom  \n",
       "50806         0.0         NaN   25  female  32130.475292  United Kingdom  \n",
       "...           ...         ...  ...     ...           ...             ...  \n",
       "497819        0.0         NaN   25  female  32130.475292  United Kingdom  \n",
       "497820        0.0         NaN   25  female  32130.475292  United Kingdom  \n",
       "497821        0.0         NaN   25  female  32130.475292  United Kingdom  \n",
       "524370        0.0         NaN   25  female  32130.475292  United Kingdom  \n",
       "535327        0.0         NaN   25  female  32130.475292  United Kingdom  \n",
       "\n",
       "[67 rows x 11 columns]"
      ]
     },
     "execution_count": 7,
     "metadata": {},
     "output_type": "execute_result"
    }
   ],
   "source": [
    "# Проверка данных, где записи описаний (Description) состоят из '?' или начинаются с '?'\n",
    "df[df['Description'].str.startswith('?') == True]"
   ]
  },
  {
   "cell_type": "code",
   "execution_count": 8,
   "id": "1c05613e-d069-4950-b881-390634702ced",
   "metadata": {},
   "outputs": [],
   "source": [
    "# Заметим, что при этом CustomerId = NaN и цена за единицу товара UnitPrice = 0\n",
    "# Удаление всех полученных записей\n",
    "df = df[df['Description'].str.startswith('?') != True]"
   ]
  },
  {
   "cell_type": "code",
   "execution_count": 9,
   "id": "95c0e991-7d41-4316-afad-434245375173",
   "metadata": {},
   "outputs": [
    {
     "data": {
      "text/html": [
       "<div>\n",
       "<style scoped>\n",
       "    .dataframe tbody tr th:only-of-type {\n",
       "        vertical-align: middle;\n",
       "    }\n",
       "\n",
       "    .dataframe tbody tr th {\n",
       "        vertical-align: top;\n",
       "    }\n",
       "\n",
       "    .dataframe thead th {\n",
       "        text-align: right;\n",
       "    }\n",
       "</style>\n",
       "<table border=\"1\" class=\"dataframe\">\n",
       "  <thead>\n",
       "    <tr style=\"text-align: right;\">\n",
       "      <th></th>\n",
       "      <th>InvoiceDate</th>\n",
       "      <th>InvoiceNo</th>\n",
       "      <th>StockCode</th>\n",
       "      <th>Description</th>\n",
       "      <th>Quantity</th>\n",
       "      <th>UnitPrice</th>\n",
       "      <th>CustomerID</th>\n",
       "      <th>Age</th>\n",
       "      <th>Gender</th>\n",
       "      <th>Income</th>\n",
       "      <th>Country</th>\n",
       "    </tr>\n",
       "  </thead>\n",
       "  <tbody>\n",
       "    <tr>\n",
       "      <th>20749</th>\n",
       "      <td>2010-12-09 14:09:00</td>\n",
       "      <td>538071</td>\n",
       "      <td>21120</td>\n",
       "      <td>*Boombox Ipod Classic</td>\n",
       "      <td>1</td>\n",
       "      <td>16.98</td>\n",
       "      <td>NaN</td>\n",
       "      <td>25</td>\n",
       "      <td>female</td>\n",
       "      <td>32130.475292</td>\n",
       "      <td>United Kingdom</td>\n",
       "    </tr>\n",
       "    <tr>\n",
       "      <th>35675</th>\n",
       "      <td>2010-12-17 14:54:00</td>\n",
       "      <td>539437</td>\n",
       "      <td>20954</td>\n",
       "      <td>*USB Office Mirror Ball</td>\n",
       "      <td>1</td>\n",
       "      <td>8.47</td>\n",
       "      <td>NaN</td>\n",
       "      <td>25</td>\n",
       "      <td>female</td>\n",
       "      <td>32130.475292</td>\n",
       "      <td>United Kingdom</td>\n",
       "    </tr>\n",
       "    <tr>\n",
       "      <th>37095</th>\n",
       "      <td>2010-12-17 17:08:00</td>\n",
       "      <td>539453</td>\n",
       "      <td>20954</td>\n",
       "      <td>*USB Office Mirror Ball</td>\n",
       "      <td>1</td>\n",
       "      <td>8.47</td>\n",
       "      <td>NaN</td>\n",
       "      <td>25</td>\n",
       "      <td>female</td>\n",
       "      <td>32130.475292</td>\n",
       "      <td>United Kingdom</td>\n",
       "    </tr>\n",
       "  </tbody>\n",
       "</table>\n",
       "</div>"
      ],
      "text/plain": [
       "               InvoiceDate InvoiceNo StockCode              Description  \\\n",
       "20749  2010-12-09 14:09:00    538071     21120    *Boombox Ipod Classic   \n",
       "35675  2010-12-17 14:54:00    539437     20954  *USB Office Mirror Ball   \n",
       "37095  2010-12-17 17:08:00    539453     20954  *USB Office Mirror Ball   \n",
       "\n",
       "       Quantity  UnitPrice  CustomerID  Age  Gender        Income  \\\n",
       "20749         1      16.98         NaN   25  female  32130.475292   \n",
       "35675         1       8.47         NaN   25  female  32130.475292   \n",
       "37095         1       8.47         NaN   25  female  32130.475292   \n",
       "\n",
       "              Country  \n",
       "20749  United Kingdom  \n",
       "35675  United Kingdom  \n",
       "37095  United Kingdom  "
      ]
     },
     "execution_count": 9,
     "metadata": {},
     "output_type": "execute_result"
    }
   ],
   "source": [
    "# Проверяем данных, где записи описаний (Description) начинаются с '*' \n",
    "df[df['Description'].str.startswith('*') == True]"
   ]
  },
  {
   "cell_type": "code",
   "execution_count": 10,
   "id": "d9352125-2e71-4e43-b933-8099465cb0f7",
   "metadata": {},
   "outputs": [],
   "source": [
    "# Заметим, что при этом CustomerId = NaN\n",
    "# Изменение записей на соответствующие описания (Description) без символа '*' и перевод в верхний регистр, как и во всех остальных записях\n",
    "df['Description'] = df['Description'].replace(('*Boombox Ipod Classic','*USB Office Mirror Ball'),\n",
    "                                             ('BOOMBOX IPOD CLASSIC','USB OFFICE MIRROR BALL'))"
   ]
  },
  {
   "cell_type": "code",
   "execution_count": 11,
   "id": "7dccc734-c97a-45f9-b85e-82feb2bd4a0e",
   "metadata": {},
   "outputs": [
    {
     "data": {
      "text/plain": [
       "Description\n",
       "check                                  159\n",
       "damages                                 45\n",
       "damaged                                 43\n",
       "found                                   25\n",
       "sold as set on dotcom                   20\n",
       "                                      ... \n",
       "adjust                                   1\n",
       "wrong code                               1\n",
       "wrong code?                              1\n",
       "did  a credit  and did not tick ret      1\n",
       "lost                                     1\n",
       "Name: count, Length: 117, dtype: int64"
      ]
     },
     "execution_count": 11,
     "metadata": {},
     "output_type": "execute_result"
    }
   ],
   "source": [
    "# В описаниях товаров (Description) есть записи строчными (в нижнем регистре) буквами - это \"шумы\" в датасете, которые можно удалить\n",
    "df[df['Description'].str.islower() == True]['Description'].value_counts()"
   ]
  },
  {
   "cell_type": "code",
   "execution_count": 12,
   "id": "d6d2e487-50be-4a72-9839-4ee7de739ae4",
   "metadata": {},
   "outputs": [],
   "source": [
    "# Удаление всех найденных неподходящих записей-\"шумов\"\n",
    "df = df[df['Description'].str.islower() != True]"
   ]
  },
  {
   "cell_type": "code",
   "execution_count": 13,
   "id": "8c8d2999-8631-4071-94e2-6ed8aff9a576",
   "metadata": {},
   "outputs": [
    {
     "data": {
      "text/plain": [
       "Description\n",
       "Manual                   567\n",
       "Next Day Carriage         80\n",
       "Discount                  77\n",
       "Bank Charges              37\n",
       "Damaged                   14\n",
       "Found                      8\n",
       "Amazon                     7\n",
       "High Resolution Image      3\n",
       "Adjustment                 2\n",
       "Dotcom                     1\n",
       "Display                    1\n",
       "Missing                    1\n",
       "Show Samples               1\n",
       "Crushed                    1\n",
       "Dagamed                    1\n",
       "Amazon Adjustment          1\n",
       "Breakages                  1\n",
       "Damages                    1\n",
       "John Lewis                 1\n",
       "Name: count, dtype: int64"
      ]
     },
     "execution_count": 13,
     "metadata": {},
     "output_type": "execute_result"
    }
   ],
   "source": [
    "# В описаниях товаров (Description) есть записи, \n",
    "# которые начинаются с заглавной буквы и не соответствуют типу большинства записей - это \"шумы\" в датасете, которые можно удалить\n",
    "df[df['Description'].str.istitle() == True]['Description'].value_counts()"
   ]
  },
  {
   "cell_type": "code",
   "execution_count": 14,
   "id": "ca2e60f9-03d2-495d-926c-753ce557f990",
   "metadata": {},
   "outputs": [],
   "source": [
    "# Удаление всех найденных неподходящих записей-\"шумов\"\n",
    "df = df[df['Description'].str.istitle() != True]"
   ]
  },
  {
   "cell_type": "code",
   "execution_count": 15,
   "id": "319e983b-982b-49bc-8e54-2d5644bc143b",
   "metadata": {},
   "outputs": [],
   "source": [
    "# Преобразование записей описаний (Description) к единому виду, удалив лишние пробелы с начала и конца строки\n",
    "df['Description'] = df['Description'].str.strip()"
   ]
  },
  {
   "cell_type": "code",
   "execution_count": 16,
   "id": "df844070-03e0-4d4e-8fee-c1d83dc0191a",
   "metadata": {},
   "outputs": [
    {
     "data": {
      "text/plain": [
       "Description\n",
       "WHITE HANGING HEART T-LIGHT HOLDER    2357\n",
       "REGENCY CAKESTAND 3 TIER              2189\n",
       "JUMBO BAG RED RETROSPOT               2156\n",
       "PARTY BUNTING                         1720\n",
       "LUNCH BAG RED RETROSPOT               1625\n",
       "ASSORTED COLOUR BIRD ORNAMENT         1488\n",
       "SET OF 3 CAKE TINS PANTRY DESIGN      1465\n",
       "PACK OF 72 RETROSPOT CAKE CASES       1367\n",
       "LUNCH BAG  BLACK SKULL.               1323\n",
       "NATURAL SLATE HEART CHALKBOARD        1272\n",
       "Name: count, dtype: int64"
      ]
     },
     "execution_count": 16,
     "metadata": {},
     "output_type": "execute_result"
    }
   ],
   "source": [
    "# Подведем итоги и выведем информацию после чистки данных\n",
    "df.Description.value_counts().head(10)"
   ]
  },
  {
   "cell_type": "markdown",
   "id": "829efe2f-7ade-4cd5-928f-c38ed9ac0d04",
   "metadata": {},
   "source": [
    "#### Столбец 8 'Gender'"
   ]
  },
  {
   "cell_type": "code",
   "execution_count": 17,
   "id": "2a9ccaac-5ece-4950-8bf8-b8faa86d83e0",
   "metadata": {},
   "outputs": [
    {
     "data": {
      "text/plain": [
       "Gender\n",
       "female    0.737222\n",
       "male      0.262778\n",
       "Name: proportion, dtype: float64"
      ]
     },
     "execution_count": 17,
     "metadata": {},
     "output_type": "execute_result"
    }
   ],
   "source": [
    "# Проверка количества уникальных совпадений по полу клиентов (Gender) среди всех записей\n",
    "df.Gender.value_counts(normalize = True)"
   ]
  },
  {
   "cell_type": "code",
   "execution_count": 18,
   "id": "65bf01e6-db9c-45e9-a240-5750ecff3645",
   "metadata": {},
   "outputs": [
    {
     "data": {
      "text/plain": [
       "<Axes: xlabel='Gender', ylabel='count'>"
      ]
     },
     "execution_count": 18,
     "metadata": {},
     "output_type": "execute_result"
    },
    {
     "data": {
      "image/png": "[encoded data removed]",
      "text/plain": [
       "<Figure size 640x480 with 1 Axes>"
      ]
     },
     "metadata": {},
     "output_type": "display_data"
    }
   ],
   "source": [
    "# Визуализация количества записей в категории пола клиентов (Gender)\n",
    "sns.countplot(x = 'Gender', data = df)"
   ]
  },
  {
   "cell_type": "markdown",
   "id": "8da4747c-aa9b-4699-9ddd-281cdaf9b2ab",
   "metadata": {},
   "source": [
    "#### Столбец 10 'Country'"
   ]
  },
  {
   "cell_type": "code",
   "execution_count": 19,
   "id": "f4759404-06d9-4ab9-970e-0b7180af2f2e",
   "metadata": {},
   "outputs": [
    {
     "data": {
      "text/plain": [
       "Country\n",
       "United Kingdom          0.913609\n",
       "Germany                 0.017678\n",
       "France                  0.015937\n",
       "EIRE                    0.015265\n",
       "Spain                   0.004717\n",
       "Netherlands             0.004426\n",
       "Belgium                 0.003865\n",
       "Switzerland             0.003725\n",
       "Portugal                0.002795\n",
       "Australia               0.002350\n",
       "Norway                  0.002018\n",
       "Italy                   0.001496\n",
       "Channel Islands         0.001410\n",
       "Finland                 0.001296\n",
       "Cyprus                  0.001138\n",
       "Sweden                  0.000859\n",
       "Unspecified             0.000826\n",
       "Austria                 0.000749\n",
       "Denmark                 0.000727\n",
       "Japan                   0.000663\n",
       "Poland                  0.000637\n",
       "Israel                  0.000549\n",
       "USA                     0.000544\n",
       "Hong Kong               0.000519\n",
       "Singapore               0.000402\n",
       "Iceland                 0.000340\n",
       "Canada                  0.000282\n",
       "Greece                  0.000273\n",
       "Malta                   0.000237\n",
       "United Arab Emirates    0.000127\n",
       "European Community      0.000114\n",
       "RSA                     0.000106\n",
       "Lebanon                 0.000084\n",
       "Lithuania               0.000065\n",
       "Brazil                  0.000060\n",
       "Czech Republic          0.000056\n",
       "Bahrain                 0.000035\n",
       "Saudi Arabia            0.000019\n",
       "Name: proportion, dtype: float64"
      ]
     },
     "execution_count": 19,
     "metadata": {},
     "output_type": "execute_result"
    }
   ],
   "source": [
    "# Проверка количества уникальных совпадений по стране (Country) среди всех записей\n",
    "df.Country.value_counts(normalize = True)"
   ]
  },
  {
   "cell_type": "code",
   "execution_count": 20,
   "id": "3f440e0f-81cc-4e19-97c2-a781e04a6445",
   "metadata": {},
   "outputs": [],
   "source": [
    "# Заметим, около 90% записей о стране (Country) относятся к Великобратании (United Kingdom)\n",
    "# Разделим все записи о странах (Country) на две категории: \"United Kingdom\" и \"Others\", которая будет объединять все остальные страны\n",
    "df['Country'] = df['Country'].apply(lambda x: 'United Kingdom' if x == 'United Kingdom' else 'Others')"
   ]
  },
  {
   "cell_type": "code",
   "execution_count": 21,
   "id": "bdbfa89b-5ae4-4511-ab03-3246f876dcf0",
   "metadata": {},
   "outputs": [
    {
     "data": {
      "text/plain": [
       "Country\n",
       "United Kingdom    0.913609\n",
       "Others            0.086391\n",
       "Name: proportion, dtype: float64"
      ]
     },
     "execution_count": 21,
     "metadata": {},
     "output_type": "execute_result"
    }
   ],
   "source": [
    "# Заново выполним проверку количества уникальных совпадений по стране (Country) среди всех записей\n",
    "df.Country.value_counts(normalize = True)"
   ]
  },
  {
   "cell_type": "code",
   "execution_count": 22,
   "id": "f7e47bfc-0a51-414a-8b24-4cba1c4410ff",
   "metadata": {},
   "outputs": [
    {
     "data": {
      "text/plain": [
       "<Axes: xlabel='Country', ylabel='count'>"
      ]
     },
     "execution_count": 22,
     "metadata": {},
     "output_type": "execute_result"
    },
    {
     "data": {
      "image/png": "[encoded data removed]",
      "text/plain": [
       "<Figure size 640x480 with 1 Axes>"
      ]
     },
     "metadata": {},
     "output_type": "display_data"
    }
   ],
   "source": [
    "# Визуализация количества записей в категории страны (Country)\n",
    "sns.countplot(x = 'Country', data = df)"
   ]
  },
  {
   "cell_type": "markdown",
   "id": "7e9e6c21-fd93-4fda-b23f-48d13f2b5079",
   "metadata": {},
   "source": [
    "### Количественные данные"
   ]
  },
  {
   "cell_type": "markdown",
   "id": "73f32dcd-2957-4775-afe1-7206c638c4c4",
   "metadata": {},
   "source": [
    "#### Столбец 4 'Quantity'"
   ]
  },
  {
   "cell_type": "code",
   "execution_count": 23,
   "id": "43eaef93-52b0-463f-8880-28dcfb1bbaa7",
   "metadata": {},
   "outputs": [
    {
     "data": {
      "text/plain": [
       "count    535288.000000\n",
       "mean          9.826705\n",
       "std         217.855684\n",
       "min      -80995.000000\n",
       "25%           1.000000\n",
       "50%           3.000000\n",
       "75%          10.000000\n",
       "max       80995.000000\n",
       "Name: Quantity, dtype: float64"
      ]
     },
     "execution_count": 23,
     "metadata": {},
     "output_type": "execute_result"
    }
   ],
   "source": [
    "# Посмотрим на описательные статистики количества (Quantity) \n",
    "df['Quantity'].describe()"
   ]
  },
  {
   "cell_type": "code",
   "execution_count": 24,
   "id": "bda3f72d-b684-4576-b32f-1247d83d6edf",
   "metadata": {},
   "outputs": [],
   "source": [
    "# Заметим, что существуют отрицательные значения, которые могут указывать на отмененные/возвращенные заказы\n",
    "# Оставим только те записи, у которых положительные значения количества (Quantity), что по нашему предположению говорит о совершенных заказах\n",
    "df = df[df['Quantity'] >= 0]"
   ]
  },
  {
   "cell_type": "code",
   "execution_count": 25,
   "id": "6f30553b-4a3d-4ce2-8f1e-fcec8c276314",
   "metadata": {},
   "outputs": [
    {
     "data": {
      "text/plain": [
       "count    525484.000000\n",
       "mean         10.689089\n",
       "std         157.406515\n",
       "min           1.000000\n",
       "25%           1.000000\n",
       "50%           4.000000\n",
       "75%          11.000000\n",
       "max       80995.000000\n",
       "Name: Quantity, dtype: float64"
      ]
     },
     "execution_count": 25,
     "metadata": {},
     "output_type": "execute_result"
    }
   ],
   "source": [
    "df['Quantity'].describe()"
   ]
  },
  {
   "cell_type": "code",
   "execution_count": 26,
   "id": "612427f4-4a49-462d-979d-3932f3a4ef12",
   "metadata": {},
   "outputs": [
    {
     "data": {
      "image/png": "[encoded data removed]",
      "text/plain": [
       "<Figure size 640x480 with 2 Axes>"
      ]
     },
     "metadata": {},
     "output_type": "display_data"
    }
   ],
   "source": [
    "# TEST !!!!!!!\n",
    "\n",
    "# создадим два подграфика ax_box и ax_hist\n",
    "# кроме того, укажем, что нам нужны:\n",
    "fig, (ax_box, ax_hist) = plt.subplots(2, # две строки в сетке подграфиков,\n",
    "                                    sharex = True, # единая шкала по оси x и\n",
    "                                    gridspec_kw = {'height_ratios': (.15, .85)}) # пропорция 15/85 по высоте\n",
    "\n",
    "# затем создадим графики, указав через параметр ax в какой подграфик поместить каждый из них\n",
    "sns.boxplot(x = df['Quantity'], ax = ax_box)\n",
    "sns.histplot(data = df, x = 'Quantity', ax = ax_hist, bins = 10, kde = True)\n",
    "\n",
    "# добавим подписи к каждому из графиков через метод .set()\n",
    "ax_box.set(xlabel = '') # пустые кавычки удаляют подпись (!)\n",
    "ax_hist.set(xlabel = 'Quantity')\n",
    "ax_hist.set(ylabel = 'count')\n",
    "\n",
    "# выведем результат\n",
    "plt.show()"
   ]
  },
  {
   "cell_type": "code",
   "execution_count": 27,
   "id": "45d56dbe-0dfd-45c7-a009-d0388ab47d52",
   "metadata": {},
   "outputs": [
    {
     "name": "stdout",
     "output_type": "stream",
     "text": [
      "1.0 11.0\n"
     ]
    },
    {
     "data": {
      "image/png": "[encoded data removed]",
      "text/plain": [
       "<Figure size 640x480 with 2 Axes>"
      ]
     },
     "metadata": {},
     "output_type": "display_data"
    }
   ],
   "source": [
    "q_low = df['Quantity'].quantile(0.25)\n",
    "q_hi = df['Quantity'].quantile(0.75)\n",
    "print(q_low, q_hi)\n",
    "q_range = q_hi - q_low\n",
    "df_kv = df[(df['Quantity'] < q_hi + 1.5 * q_range) & (df['Quantity'] > q_low - 1.5 * q_range)]\n",
    "\n",
    "fig, (ax_box, ax_hist) = plt.subplots(2, # две строки в сетке подграфиков,\n",
    "                                    sharex = True, # единая шкала по оси x и\n",
    "                                    gridspec_kw = {'height_ratios': (.15, .85)}) # пропорция 15/85 по высоте\n",
    "\n",
    "# затем создадим графики, указав через параметр ax в какой подграфик поместить каждый из них\n",
    "sns.boxplot(x = df_kv['Quantity'], ax = ax_box)\n",
    "sns.histplot(data = df_kv, x = 'Quantity', ax = ax_hist, bins = 10, kde = True)\n",
    "\n",
    "# добавим подписи к каждому из графиков через метод .set()\n",
    "ax_box.set(xlabel = '') # пустые кавычки удаляют подпись (!)\n",
    "ax_hist.set(xlabel = 'Quantity')\n",
    "ax_hist.set(ylabel = 'count')\n",
    "\n",
    "# выведем результат\n",
    "plt.show()"
   ]
  },
  {
   "cell_type": "code",
   "execution_count": 28,
   "id": "cedc6f7a-e827-4c52-b365-8c7bc3e36eda",
   "metadata": {},
   "outputs": [
    {
     "data": {
      "image/png": "[encoded data removed]",
      "text/plain": [
       "<Figure size 640x480 with 2 Axes>"
      ]
     },
     "metadata": {},
     "output_type": "display_data"
    }
   ],
   "source": [
    "Q1 =  df['Quantity'].quantile(0.25)   # q_low\n",
    "Q3 = df['Quantity'].quantile(0.75)    # q_high\n",
    "IQR = Q3 - Q1                         # q_range\n",
    "df_IQR = df[df['Quantity'] < (Q3 + 1.5 * IQR)]\n",
    "\n",
    "fig, (ax_box, ax_hist) = plt.subplots(2, # две строки в сетке подграфиков,\n",
    "                                    sharex = True, # единая шкала по оси x и\n",
    "                                    gridspec_kw = {'height_ratios': (.15, .85)}) # пропорция 15/85 по высоте\n",
    "\n",
    "# затем создадим графики, указав через параметр ax в какой подграфик поместить каждый из них\n",
    "sns.boxplot(x = df_IQR['Quantity'], ax = ax_box)\n",
    "sns.histplot(data = df_IQR, x = 'Quantity', ax = ax_hist, bins = 10, kde = True)\n",
    "\n",
    "# добавим подписи к каждому из графиков через метод .set()\n",
    "ax_box.set(xlabel = '') # пустые кавычки удаляют подпись (!)\n",
    "ax_hist.set(xlabel = 'Quantity')\n",
    "ax_hist.set(ylabel = 'count')\n",
    "\n",
    "# выведем результат\n",
    "plt.show()"
   ]
  },
  {
   "cell_type": "markdown",
   "id": "28f20a21-345c-4771-8f3e-90b626490d52",
   "metadata": {},
   "source": [
    "#### Столбец 5 'UnitPrice'"
   ]
  },
  {
   "cell_type": "code",
   "execution_count": 29,
   "id": "57ff1f43-615c-46d0-9add-0667594d2c8b",
   "metadata": {},
   "outputs": [
    {
     "data": {
      "text/plain": [
       "count    525484.000000\n",
       "mean          3.732285\n",
       "std          38.455681\n",
       "min      -11062.060000\n",
       "25%           1.250000\n",
       "50%           2.080000\n",
       "75%           4.130000\n",
       "85%           5.790000\n",
       "95%           9.950000\n",
       "99%          16.950000\n",
       "max       13541.330000\n",
       "Name: UnitPrice, dtype: float64"
      ]
     },
     "execution_count": 29,
     "metadata": {},
     "output_type": "execute_result"
    }
   ],
   "source": [
    "# Посмотрим описательные статистики значений цены за единицу товара (UnitPrice) и распределение по перцентилям\n",
    "df.UnitPrice.describe(percentiles = [0.25, 0.5, 0.75, 0.85,0.95, 0.99])"
   ]
  },
  {
   "cell_type": "code",
   "execution_count": 30,
   "id": "38e49fe1-d7d9-410b-b685-dad89e5b7d76",
   "metadata": {},
   "outputs": [],
   "source": [
    "# Удаление записей с нулевой ценой за единицу товара (UnitPrice = 0)\n",
    "df = df[df['UnitPrice'] != 0.0]"
   ]
  },
  {
   "cell_type": "code",
   "execution_count": 31,
   "id": "e9df81b0-bc8f-4b33-8367-e4158db79a8c",
   "metadata": {},
   "outputs": [],
   "source": [
    "# ????\n",
    "df = df[df['UnitPrice'] > 0]"
   ]
  },
  {
   "cell_type": "code",
   "execution_count": 32,
   "id": "e9653a08-115c-45ac-bf31-77af81d68317",
   "metadata": {},
   "outputs": [
    {
     "data": {
      "text/plain": [
       "count    524467.000000\n",
       "mean          3.781707\n",
       "std          31.854666\n",
       "min           0.001000\n",
       "25%           1.250000\n",
       "50%           2.080000\n",
       "75%           4.130000\n",
       "85%           5.790000\n",
       "95%           9.950000\n",
       "99%          16.950000\n",
       "max       13541.330000\n",
       "Name: UnitPrice, dtype: float64"
      ]
     },
     "execution_count": 32,
     "metadata": {},
     "output_type": "execute_result"
    }
   ],
   "source": [
    "df.UnitPrice.describe(percentiles = [0.25, 0.5, 0.75, 0.85,0.95, 0.99])"
   ]
  },
  {
   "cell_type": "code",
   "execution_count": 33,
   "id": "ef4d21b7-2dca-468e-8aaf-90a717e02de3",
   "metadata": {},
   "outputs": [
    {
     "data": {
      "image/png": "[encoded data removed]",
      "text/plain": [
       "<Figure size 640x480 with 2 Axes>"
      ]
     },
     "metadata": {},
     "output_type": "display_data"
    }
   ],
   "source": [
    "# создадим два подграфика ax_box и ax_hist\n",
    "# кроме того, укажем, что нам нужны:\n",
    "fig, (ax_box, ax_hist) = plt.subplots(2, # две строки в сетке подграфиков,\n",
    "                                    sharex = True, # единая шкала по оси x и\n",
    "                                    gridspec_kw = {'height_ratios': (.15, .85)}) # пропорция 15/85 по высоте\n",
    "\n",
    "# затем создадим графики, указав через параметр ax в какой подграфик поместить каждый из них\n",
    "sns.boxplot(x = df['UnitPrice'], ax = ax_box)\n",
    "sns.histplot(data = df, x = 'UnitPrice', ax = ax_hist, bins = 10, kde = True)\n",
    "\n",
    "# добавим подписи к каждому из графиков через метод .set()\n",
    "ax_box.set(xlabel = '') # пустые кавычки удаляют подпись (!)\n",
    "ax_hist.set(xlabel = 'UnitPrice')\n",
    "ax_hist.set(ylabel = 'count')\n",
    "\n",
    "# выведем результат\n",
    "plt.show()"
   ]
  },
  {
   "cell_type": "code",
   "execution_count": 34,
   "id": "ce3156aa-b327-42c4-abd2-9818339f4a0f",
   "metadata": {},
   "outputs": [
    {
     "data": {
      "image/png": "[encoded data removed]",
      "text/plain": [
       "<Figure size 640x480 with 2 Axes>"
      ]
     },
     "metadata": {},
     "output_type": "display_data"
    }
   ],
   "source": [
    "Q11 =  df['UnitPrice'].quantile(0.25)   # q_low\n",
    "Q33 = df['UnitPrice'].quantile(0.75)    # q_high\n",
    "IQRy = Q33 - Q11                         # q_range\n",
    "df_IQRy = df[df['UnitPrice'] < (Q33 + 1.5 * IQRy)]\n",
    "\n",
    "fig, (ax_box, ax_hist) = plt.subplots(2, # две строки в сетке подграфиков,\n",
    "                                    sharex = True, # единая шкала по оси x и\n",
    "                                    gridspec_kw = {'height_ratios': (.15, .85)}) # пропорция 15/85 по высоте\n",
    "\n",
    "# затем создадим графики, указав через параметр ax в какой подграфик поместить каждый из них\n",
    "sns.boxplot(x = df_IQRy['UnitPrice'], ax = ax_box)\n",
    "sns.histplot(data = df_IQRy, x = 'UnitPrice', ax = ax_hist, bins = 10, kde = True)\n",
    "\n",
    "# добавим подписи к каждому из графиков через метод .set()\n",
    "ax_box.set(xlabel = '') # пустые кавычки удаляют подпись (!)\n",
    "ax_hist.set(xlabel = 'UnitPrice')\n",
    "ax_hist.set(ylabel = 'count')\n",
    "\n",
    "# выведем результат\n",
    "plt.show()"
   ]
  },
  {
   "cell_type": "code",
   "execution_count": 35,
   "id": "a6b20be2-8974-43f5-932d-e019d18930c4",
   "metadata": {},
   "outputs": [
    {
     "data": {
      "text/plain": [
       "count    524467.000000\n",
       "mean          3.781707\n",
       "std          31.854666\n",
       "min           0.001000\n",
       "25%           1.250000\n",
       "50%           2.080000\n",
       "75%           4.130000\n",
       "85%           5.790000\n",
       "95%           9.950000\n",
       "99%          16.950000\n",
       "max       13541.330000\n",
       "Name: UnitPrice, dtype: float64"
      ]
     },
     "execution_count": 35,
     "metadata": {},
     "output_type": "execute_result"
    }
   ],
   "source": [
    "df.UnitPrice.describe(percentiles = [0.25, 0.5, 0.75, 0.85,0.95, 0.99])"
   ]
  },
  {
   "cell_type": "code",
   "execution_count": 36,
   "id": "a8597a68-6eb4-4bba-b47d-bf6592ae18fa",
   "metadata": {},
   "outputs": [
    {
     "data": {
      "text/plain": [
       "count    486841.000000\n",
       "mean          2.536561\n",
       "std           1.916293\n",
       "min           0.001000\n",
       "25%           1.250000\n",
       "50%           1.950000\n",
       "75%           3.750000\n",
       "85%           4.250000\n",
       "95%           6.750000\n",
       "99%           8.290000\n",
       "max           8.330000\n",
       "Name: UnitPrice, dtype: float64"
      ]
     },
     "execution_count": 36,
     "metadata": {},
     "output_type": "execute_result"
    }
   ],
   "source": [
    "df_IQRy.UnitPrice.describe(percentiles = [0.25, 0.5, 0.75, 0.85,0.95, 0.99])"
   ]
  },
  {
   "cell_type": "markdown",
   "id": "c7bd5e28-dd2e-48b8-9bed-ba71639a3ff8",
   "metadata": {
    "jp-MarkdownHeadingCollapsed": true
   },
   "source": [
    "#### Столбец 7 'Age'"
   ]
  },
  {
   "cell_type": "code",
   "execution_count": 37,
   "id": "9fee23d7-546b-401e-981a-b11f8b8fec4a",
   "metadata": {},
   "outputs": [
    {
     "data": {
      "text/plain": [
       "count    524467.000000\n",
       "mean         34.849531\n",
       "std          12.984477\n",
       "min          15.000000\n",
       "25%          25.000000\n",
       "50%          31.000000\n",
       "75%          43.000000\n",
       "max         100.000000\n",
       "Name: Age, dtype: float64"
      ]
     },
     "execution_count": 37,
     "metadata": {},
     "output_type": "execute_result"
    }
   ],
   "source": [
    "# Посмотрим на описательные статистики записей о возрасте клиентов (Age) \n",
    "df['Age'].describe()"
   ]
  },
  {
   "cell_type": "code",
   "execution_count": 38,
   "id": "6ec76f85-4546-49e3-a9be-f0ac62d9eca6",
   "metadata": {},
   "outputs": [
    {
     "data": {
      "image/png": "[encoded data removed]",
      "text/plain": [
       "<Figure size 640x480 with 2 Axes>"
      ]
     },
     "metadata": {},
     "output_type": "display_data"
    }
   ],
   "source": [
    "# создадим два подграфика ax_box и ax_hist\n",
    "# кроме того, укажем, что нам нужны:\n",
    "fig, (ax_box, ax_hist) = plt.subplots(2, # две строки в сетке подграфиков,\n",
    "                                    sharex = True, # единая шкала по оси x и\n",
    "                                    gridspec_kw = {'height_ratios': (.15, .85)}) # пропорция 15/85 по высоте\n",
    "\n",
    "# затем создадим графики, указав через параметр ax в какой подграфик поместить каждый из них\n",
    "sns.boxplot(x = df['Age'], ax = ax_box)\n",
    "sns.histplot(data = df, x = 'Age', ax = ax_hist, bins = 10, kde = True)\n",
    "\n",
    "# добавим подписи к каждому из графиков через метод .set()\n",
    "ax_box.set(xlabel = '') # пустые кавычки удаляют подпись (!)\n",
    "ax_hist.set(xlabel = 'Age')\n",
    "ax_hist.set(ylabel = 'count')\n",
    "\n",
    "# выведем результат\n",
    "plt.show()"
   ]
  },
  {
   "cell_type": "code",
   "execution_count": 39,
   "id": "a2e74759-64cc-49c8-802a-a624fee656f8",
   "metadata": {},
   "outputs": [
    {
     "data": {
      "text/plain": [
       "Age\n",
       "25    0.272021\n",
       "28    0.032069\n",
       "44    0.031352\n",
       "33    0.030086\n",
       "29    0.028978\n",
       "        ...   \n",
       "76    0.000071\n",
       "85    0.000061\n",
       "89    0.000059\n",
       "86    0.000042\n",
       "97    0.000027\n",
       "Name: proportion, Length: 80, dtype: float64"
      ]
     },
     "execution_count": 39,
     "metadata": {},
     "output_type": "execute_result"
    }
   ],
   "source": [
    "# Проверка количества уникальных совпадений по возрастам клиентов (Age) среди всех записей\n",
    "df.Age.value_counts(normalize = True)"
   ]
  },
  {
   "cell_type": "code",
   "execution_count": 40,
   "id": "47b891a7-ca7d-444e-931f-d6c6e894711c",
   "metadata": {},
   "outputs": [
    {
     "data": {
      "text/plain": [
       "(23.5, 32.0]      0.452385\n",
       "(32.0, 40.5]      0.166605\n",
       "(40.5, 49.0]      0.152429\n",
       "(14.914, 23.5]    0.086234\n",
       "(49.0, 57.5]      0.066839\n",
       "(57.5, 66.0]      0.055229\n",
       "(66.0, 74.5]      0.014310\n",
       "(83.0, 91.5]      0.002288\n",
       "(74.5, 83.0]      0.002086\n",
       "(91.5, 100.0]     0.001594\n",
       "Name: proportion, dtype: float64"
      ]
     },
     "execution_count": 40,
     "metadata": {},
     "output_type": "execute_result"
    }
   ],
   "source": [
    "# Проверка количества уникальных совпадений по возрастам клиентов (Age) среди всех записей, \n",
    "# сгруппированных по 10 отрезкам возрастов (Age) по убыванию\n",
    "df.Age.value_counts(normalize = True, bins = 10)"
   ]
  },
  {
   "cell_type": "code",
   "execution_count": 41,
   "id": "c44d2ed5-b4c8-43a9-88e8-98ca23ef646c",
   "metadata": {},
   "outputs": [
    {
     "data": {
      "text/plain": [
       "Age\n",
       "25    142666\n",
       "28     16819\n",
       "44     16443\n",
       "33     15779\n",
       "29     15198\n",
       "42     14066\n",
       "26     13086\n",
       "35     12990\n",
       "27     12245\n",
       "45     11648\n",
       "Name: count, dtype: int64"
      ]
     },
     "execution_count": 41,
     "metadata": {},
     "output_type": "execute_result"
    }
   ],
   "source": [
    "# Топ-10 возрастов клиентов (Age)\n",
    "df.Age.value_counts().head(10)"
   ]
  },
  {
   "cell_type": "markdown",
   "id": "5d28bd51-5124-4844-b8a2-eddac870de69",
   "metadata": {},
   "source": [
    "#### Столбец 9 'Income'"
   ]
  },
  {
   "cell_type": "code",
   "execution_count": null,
   "id": "44b6b3d7-e219-49c5-aaee-5324674740d3",
   "metadata": {},
   "outputs": [],
   "source": [
    "# ???\n",
    "# Проверка количества уникальных совпадений по доходу клиентов (Income) среди всех записей\n",
    "df.Income.value_counts(normalize = True)"
   ]
  },
  {
   "cell_type": "code",
   "execution_count": null,
   "id": "4968bb76-88e4-4552-acea-7468d403dfe5",
   "metadata": {},
   "outputs": [],
   "source": [
    "# ???\n",
    "# Проверка количества уникальных совпадений по доходу клиентов (Income) среди всех записей, \n",
    "# сгруппированных по 10 отрезкам доходов клиентов (Income) по убыванию\n",
    "df.Income.value_counts(normalize = True, bins = 10)"
   ]
  },
  {
   "cell_type": "code",
   "execution_count": 54,
   "id": "8db240e1-75d6-4272-8c0a-98c88330a871",
   "metadata": {},
   "outputs": [
    {
     "data": {
      "text/plain": [
       "count    375312.000000\n",
       "mean      33449.983047\n",
       "std        6464.240539\n",
       "min       18662.725643\n",
       "25%       32029.371629\n",
       "50%       32992.043135\n",
       "75%       35186.809490\n",
       "85%       41713.587444\n",
       "95%       43380.636114\n",
       "99%       44358.814114\n",
       "max       45925.206366\n",
       "Name: Income, dtype: float64"
      ]
     },
     "execution_count": 54,
     "metadata": {},
     "output_type": "execute_result"
    }
   ],
   "source": [
    "# Посмотрим описательные статистики значений цены за единицу товара (Income) и распределение по перцентилям\n",
    "df.Income.describe(percentiles = [0.25, 0.5, 0.75, 0.85,0.95, 0.99])"
   ]
  },
  {
   "cell_type": "code",
   "execution_count": 55,
   "id": "4900316f-5f74-44d6-b4a4-ba122f805c41",
   "metadata": {},
   "outputs": [
    {
     "data": {
      "image/png": "[encoded data removed]",
      "text/plain": [
       "<Figure size 640x480 with 2 Axes>"
      ]
     },
     "metadata": {},
     "output_type": "display_data"
    }
   ],
   "source": [
    "# создадим два подграфика ax_box и ax_hist\n",
    "# кроме того, укажем, что нам нужны:\n",
    "fig, (ax_box, ax_hist) = plt.subplots(2, # две строки в сетке подграфиков,\n",
    "                                    sharex = True, # единая шкала по оси x и\n",
    "                                    gridspec_kw = {'height_ratios': (.15, .85)}) # пропорция 15/85 по высоте\n",
    "\n",
    "# затем создадим графики, указав через параметр ax в какой подграфик поместить каждый из них\n",
    "sns.boxplot(x = df['Income'], ax = ax_box)\n",
    "sns.histplot(data = df, x = 'Income', ax = ax_hist, bins = 10, kde = True)\n",
    "\n",
    "# добавим подписи к каждому из графиков через метод .set()\n",
    "ax_box.set(xlabel = '') # пустые кавычки удаляют подпись (!)\n",
    "ax_hist.set(xlabel = 'Income')\n",
    "ax_hist.set(ylabel = 'count')\n",
    "\n",
    "# выведем результат\n",
    "plt.show()"
   ]
  },
  {
   "cell_type": "code",
   "execution_count": 56,
   "id": "724f6e08-7341-439c-b20b-7a07cba397a3",
   "metadata": {},
   "outputs": [
    {
     "data": {
      "image/png": "[encoded data removed]",
      "text/plain": [
       "<Figure size 640x480 with 2 Axes>"
      ]
     },
     "metadata": {},
     "output_type": "display_data"
    }
   ],
   "source": [
    "Q1i =  df['Income'].quantile(0.25)   # q_low\n",
    "Q3i = df['Income'].quantile(0.75)    # q_high\n",
    "IQRi = Q3i - Q1i                         # q_range\n",
    "lower = Q1i - 1.5 * IQRi\n",
    "upper = Q3i + 1.5 * IQRi\n",
    "df_IQRi = df[(df['Income'] >= lower) & (df['Income'] <= upper)]\n",
    "\n",
    "fig, (ax_box, ax_hist) = plt.subplots(2, # две строки в сетке подграфиков,\n",
    "                                    sharex = True, # единая шкала по оси x и\n",
    "                                    gridspec_kw = {'height_ratios': (.15, .85)}) # пропорция 15/85 по высоте\n",
    "\n",
    "# затем создадим графики, указав через параметр ax в какой подграфик поместить каждый из них\n",
    "sns.boxplot(x = df_IQRi['Income'], ax = ax_box)\n",
    "sns.histplot(data = df_IQRi, x = 'Income', ax = ax_hist, bins = 10, kde = True)\n",
    "\n",
    "# добавим подписи к каждому из графиков через метод .set()\n",
    "ax_box.set(xlabel = '') # пустые кавычки удаляют подпись (!)\n",
    "ax_hist.set(xlabel = 'Income')\n",
    "ax_hist.set(ylabel = 'count')\n",
    "\n",
    "# выведем результат\n",
    "plt.show()"
   ]
  },
  {
   "cell_type": "code",
   "execution_count": 57,
   "id": "cf324f5c-909e-4a03-8670-2f904da0b03c",
   "metadata": {},
   "outputs": [
    {
     "data": {
      "text/plain": [
       "count    375312.000000\n",
       "mean      33449.983047\n",
       "std        6464.240539\n",
       "min       18662.725643\n",
       "25%       32029.371629\n",
       "50%       32992.043135\n",
       "75%       35186.809490\n",
       "85%       41713.587444\n",
       "95%       43380.636114\n",
       "99%       44358.814114\n",
       "max       45925.206366\n",
       "Name: Income, dtype: float64"
      ]
     },
     "execution_count": 57,
     "metadata": {},
     "output_type": "execute_result"
    }
   ],
   "source": [
    "df.Income.describe(percentiles = [0.25, 0.5, 0.75, 0.85,0.95, 0.99])"
   ]
  },
  {
   "cell_type": "code",
   "execution_count": 58,
   "id": "10cc112d-31b7-488c-b489-b4d7957a52be",
   "metadata": {},
   "outputs": [
    {
     "data": {
      "text/plain": [
       "count    239858.000000\n",
       "mean      32961.834149\n",
       "std        1495.772827\n",
       "min       27326.356715\n",
       "25%       32251.404580\n",
       "50%       32903.130864\n",
       "75%       33513.444454\n",
       "85%       33861.826168\n",
       "95%       34848.162619\n",
       "99%       39579.054674\n",
       "max       39917.938386\n",
       "Name: Income, dtype: float64"
      ]
     },
     "execution_count": 58,
     "metadata": {},
     "output_type": "execute_result"
    }
   ],
   "source": [
    "df_IQRi.Income.describe(percentiles = [0.25, 0.5, 0.75, 0.85,0.95, 0.99])"
   ]
  },
  {
   "cell_type": "markdown",
   "id": "107a1a15-03f6-482b-8d09-df07b21a13c9",
   "metadata": {},
   "source": [
    "### Временные ряды"
   ]
  },
  {
   "cell_type": "markdown",
   "id": "5eb46e1a-11ca-473c-a9ed-6f5851c037dd",
   "metadata": {
    "jp-MarkdownHeadingCollapsed": true
   },
   "source": [
    "#### Столбец 0 'InvoiceDate'"
   ]
  },
  {
   "cell_type": "code",
   "execution_count": 42,
   "id": "f04c0582-cc78-437b-b408-1ae14cfae12f",
   "metadata": {},
   "outputs": [
    {
     "name": "stdout",
     "output_type": "stream",
     "text": [
      "The minimum date is: 2010-12-01 08:26:00\n",
      "The maximum date is: 2011-12-09 12:50:00\n"
     ]
    }
   ],
   "source": [
    "# Первая покупка в датасете\n",
    "print('The minimum date is:', df.InvoiceDate.min())\n",
    "\n",
    "# Последняя покупка в датасете\n",
    "print('The maximum date is:', df.InvoiceDate.max())"
   ]
  },
  {
   "cell_type": "markdown",
   "id": "12b455fc-8ba8-4546-b5e4-900988d8dda7",
   "metadata": {},
   "source": [
    "Из собранных данных можно заметить, что первая запись в датасете относится к 1 декабря 2010 года в 8:26, а последняя — к 9 декабря 2011 года в 12:50.\n",
    "Исходя из этого, можем исключить декабрь 2011 года из анализа, поскольку нет полной информации об этом месяце."
   ]
  },
  {
   "cell_type": "code",
   "execution_count": 43,
   "id": "fbb739dd-c5d0-4d95-a6cf-6d89394eb344",
   "metadata": {},
   "outputs": [],
   "source": [
    "# Удаление записи из датафрейма за декабрь 2011 года\n",
    "df = df[df.InvoiceDate < '2011-12-01']"
   ]
  },
  {
   "cell_type": "markdown",
   "id": "c86c5f89-beb5-4b45-a063-a5994699464b",
   "metadata": {},
   "source": [
    "### Остальные данные"
   ]
  },
  {
   "cell_type": "markdown",
   "id": "a98549f9-b205-41fc-9828-6b51e3eeb61e",
   "metadata": {
    "jp-MarkdownHeadingCollapsed": true
   },
   "source": [
    "#### Столбец 1 'InvoiceNo'"
   ]
  },
  {
   "cell_type": "code",
   "execution_count": 44,
   "id": "0895d738-983e-4ca1-be55-15ef69598de4",
   "metadata": {},
   "outputs": [
    {
     "data": {
      "text/html": [
       "<div>\n",
       "<style scoped>\n",
       "    .dataframe tbody tr th:only-of-type {\n",
       "        vertical-align: middle;\n",
       "    }\n",
       "\n",
       "    .dataframe tbody tr th {\n",
       "        vertical-align: top;\n",
       "    }\n",
       "\n",
       "    .dataframe thead th {\n",
       "        text-align: right;\n",
       "    }\n",
       "</style>\n",
       "<table border=\"1\" class=\"dataframe\">\n",
       "  <thead>\n",
       "    <tr style=\"text-align: right;\">\n",
       "      <th></th>\n",
       "      <th>InvoiceDate</th>\n",
       "      <th>InvoiceNo</th>\n",
       "      <th>StockCode</th>\n",
       "      <th>Description</th>\n",
       "      <th>Quantity</th>\n",
       "      <th>UnitPrice</th>\n",
       "      <th>CustomerID</th>\n",
       "      <th>Age</th>\n",
       "      <th>Gender</th>\n",
       "      <th>Income</th>\n",
       "      <th>Country</th>\n",
       "    </tr>\n",
       "  </thead>\n",
       "  <tbody>\n",
       "  </tbody>\n",
       "</table>\n",
       "</div>"
      ],
      "text/plain": [
       "Empty DataFrame\n",
       "Columns: [InvoiceDate, InvoiceNo, StockCode, Description, Quantity, UnitPrice, CustomerID, Age, Gender, Income, Country]\n",
       "Index: []"
      ]
     },
     "execution_count": 44,
     "metadata": {},
     "output_type": "execute_result"
    }
   ],
   "source": [
    "# Номера операций/заказов (InvoiceNo), начинающиеся с символа 'C', который указывает на возвращенные или отмененные заказы\n",
    "df[df['InvoiceNo'].str.startswith('C') == True]"
   ]
  },
  {
   "cell_type": "code",
   "execution_count": 45,
   "id": "aae6a7d5-b642-45e5-8525-6d5291feb719",
   "metadata": {},
   "outputs": [],
   "source": [
    "# Удаление всех номеров операций (InvoiceNo), начинающихся с символа 'C'\n",
    "df = df[df['InvoiceNo'].str.startswith('C') != True]"
   ]
  },
  {
   "cell_type": "code",
   "execution_count": 46,
   "id": "fd4d071d-eef7-46c5-b652-52947fbf029a",
   "metadata": {},
   "outputs": [
    {
     "data": {
      "text/plain": [
       "19036"
      ]
     },
     "execution_count": 46,
     "metadata": {},
     "output_type": "execute_result"
    }
   ],
   "source": [
    "# Проверка количества уникальных номеров операций (InvoiceNo)\n",
    "df.InvoiceNo.nunique()"
   ]
  },
  {
   "cell_type": "markdown",
   "id": "b0d933e2-8fea-44b0-859c-172b3ab07373",
   "metadata": {
    "jp-MarkdownHeadingCollapsed": true
   },
   "source": [
    "#### Столбец 2 'StockCode'"
   ]
  },
  {
   "cell_type": "code",
   "execution_count": 47,
   "id": "4965400e-27df-490b-b15b-7c6de2f1489b",
   "metadata": {},
   "outputs": [
    {
     "data": {
      "text/plain": [
       "3914"
      ]
     },
     "execution_count": 47,
     "metadata": {},
     "output_type": "execute_result"
    }
   ],
   "source": [
    "# Проверка количества уникальных биржевых кодов-идентификаторов (StockCode) среди всех записей о продажах\n",
    "df.StockCode.nunique()"
   ]
  },
  {
   "cell_type": "code",
   "execution_count": 48,
   "id": "ddd1dab2-3268-45ca-a0c4-917495588394",
   "metadata": {},
   "outputs": [
    {
     "data": {
      "text/plain": [
       "StockCode\n",
       "85123A    2186\n",
       "85099B    2055\n",
       "22423     1946\n",
       "47566     1671\n",
       "20725     1538\n",
       "84879     1429\n",
       "22197     1350\n",
       "22720     1350\n",
       "21212     1315\n",
       "22383     1273\n",
       "Name: count, dtype: int64"
      ]
     },
     "execution_count": 48,
     "metadata": {},
     "output_type": "execute_result"
    }
   ],
   "source": [
    "# Топ-10 биржевых кодов-идентификаторов (StockCode), которые продавались чаще всего\n",
    "df.StockCode.value_counts().head(10)"
   ]
  },
  {
   "cell_type": "markdown",
   "id": "b09b0af7-4585-4a07-b0f8-c37898b867da",
   "metadata": {
    "jp-MarkdownHeadingCollapsed": true
   },
   "source": [
    "#### Столбец 6 'CustomerID'"
   ]
  },
  {
   "cell_type": "code",
   "execution_count": 49,
   "id": "3c799f85-db86-456b-97ca-3c1741fd55d1",
   "metadata": {},
   "outputs": [
    {
     "data": {
      "text/plain": [
       "4293"
      ]
     },
     "execution_count": 49,
     "metadata": {},
     "output_type": "execute_result"
    }
   ],
   "source": [
    "# Проверка количество уникальных идентификаторов клиентов (CustomerID)\n",
    "df.CustomerID.nunique()"
   ]
  },
  {
   "cell_type": "code",
   "execution_count": 50,
   "id": "4f2d5558-1441-4f57-8a2a-92a936799197",
   "metadata": {},
   "outputs": [
    {
     "data": {
      "text/html": [
       "<div>\n",
       "<style scoped>\n",
       "    .dataframe tbody tr th:only-of-type {\n",
       "        vertical-align: middle;\n",
       "    }\n",
       "\n",
       "    .dataframe tbody tr th {\n",
       "        vertical-align: top;\n",
       "    }\n",
       "\n",
       "    .dataframe thead th {\n",
       "        text-align: right;\n",
       "    }\n",
       "</style>\n",
       "<table border=\"1\" class=\"dataframe\">\n",
       "  <thead>\n",
       "    <tr style=\"text-align: right;\">\n",
       "      <th></th>\n",
       "      <th>InvoiceDate</th>\n",
       "      <th>InvoiceNo</th>\n",
       "      <th>StockCode</th>\n",
       "      <th>Description</th>\n",
       "      <th>Quantity</th>\n",
       "      <th>UnitPrice</th>\n",
       "      <th>CustomerID</th>\n",
       "      <th>Age</th>\n",
       "      <th>Gender</th>\n",
       "      <th>Income</th>\n",
       "      <th>Country</th>\n",
       "    </tr>\n",
       "  </thead>\n",
       "  <tbody>\n",
       "    <tr>\n",
       "      <th>1443</th>\n",
       "      <td>2010-12-01 14:32:00</td>\n",
       "      <td>536544</td>\n",
       "      <td>21773</td>\n",
       "      <td>DECORATIVE ROSE BATHROOM BOTTLE</td>\n",
       "      <td>1</td>\n",
       "      <td>2.51</td>\n",
       "      <td>NaN</td>\n",
       "      <td>25</td>\n",
       "      <td>female</td>\n",
       "      <td>32130.475292</td>\n",
       "      <td>United Kingdom</td>\n",
       "    </tr>\n",
       "    <tr>\n",
       "      <th>1444</th>\n",
       "      <td>2010-12-01 14:32:00</td>\n",
       "      <td>536544</td>\n",
       "      <td>21774</td>\n",
       "      <td>DECORATIVE CATS BATHROOM BOTTLE</td>\n",
       "      <td>2</td>\n",
       "      <td>2.51</td>\n",
       "      <td>NaN</td>\n",
       "      <td>25</td>\n",
       "      <td>female</td>\n",
       "      <td>32130.475292</td>\n",
       "      <td>United Kingdom</td>\n",
       "    </tr>\n",
       "    <tr>\n",
       "      <th>1445</th>\n",
       "      <td>2010-12-01 14:32:00</td>\n",
       "      <td>536544</td>\n",
       "      <td>21786</td>\n",
       "      <td>POLKADOT RAIN HAT</td>\n",
       "      <td>4</td>\n",
       "      <td>0.85</td>\n",
       "      <td>NaN</td>\n",
       "      <td>25</td>\n",
       "      <td>female</td>\n",
       "      <td>32130.475292</td>\n",
       "      <td>United Kingdom</td>\n",
       "    </tr>\n",
       "    <tr>\n",
       "      <th>1446</th>\n",
       "      <td>2010-12-01 14:32:00</td>\n",
       "      <td>536544</td>\n",
       "      <td>21787</td>\n",
       "      <td>RAIN PONCHO RETROSPOT</td>\n",
       "      <td>2</td>\n",
       "      <td>1.66</td>\n",
       "      <td>NaN</td>\n",
       "      <td>25</td>\n",
       "      <td>female</td>\n",
       "      <td>32130.475292</td>\n",
       "      <td>United Kingdom</td>\n",
       "    </tr>\n",
       "    <tr>\n",
       "      <th>1447</th>\n",
       "      <td>2010-12-01 14:32:00</td>\n",
       "      <td>536544</td>\n",
       "      <td>21790</td>\n",
       "      <td>VINTAGE SNAP CARDS</td>\n",
       "      <td>9</td>\n",
       "      <td>1.66</td>\n",
       "      <td>NaN</td>\n",
       "      <td>25</td>\n",
       "      <td>female</td>\n",
       "      <td>32130.475292</td>\n",
       "      <td>United Kingdom</td>\n",
       "    </tr>\n",
       "    <tr>\n",
       "      <th>...</th>\n",
       "      <td>...</td>\n",
       "      <td>...</td>\n",
       "      <td>...</td>\n",
       "      <td>...</td>\n",
       "      <td>...</td>\n",
       "      <td>...</td>\n",
       "      <td>...</td>\n",
       "      <td>...</td>\n",
       "      <td>...</td>\n",
       "      <td>...</td>\n",
       "      <td>...</td>\n",
       "    </tr>\n",
       "    <tr>\n",
       "      <th>515863</th>\n",
       "      <td>2011-11-30 15:33:00</td>\n",
       "      <td>579787</td>\n",
       "      <td>21888</td>\n",
       "      <td>BINGO SET</td>\n",
       "      <td>2</td>\n",
       "      <td>7.46</td>\n",
       "      <td>NaN</td>\n",
       "      <td>25</td>\n",
       "      <td>female</td>\n",
       "      <td>32130.475292</td>\n",
       "      <td>United Kingdom</td>\n",
       "    </tr>\n",
       "    <tr>\n",
       "      <th>515864</th>\n",
       "      <td>2011-11-30 15:33:00</td>\n",
       "      <td>579787</td>\n",
       "      <td>21912</td>\n",
       "      <td>VINTAGE SNAKES &amp; LADDERS</td>\n",
       "      <td>1</td>\n",
       "      <td>7.46</td>\n",
       "      <td>NaN</td>\n",
       "      <td>25</td>\n",
       "      <td>female</td>\n",
       "      <td>32130.475292</td>\n",
       "      <td>United Kingdom</td>\n",
       "    </tr>\n",
       "    <tr>\n",
       "      <th>515865</th>\n",
       "      <td>2011-11-30 15:33:00</td>\n",
       "      <td>579787</td>\n",
       "      <td>21916</td>\n",
       "      <td>SET 12 RETRO WHITE CHALK STICKS</td>\n",
       "      <td>1</td>\n",
       "      <td>0.79</td>\n",
       "      <td>NaN</td>\n",
       "      <td>25</td>\n",
       "      <td>female</td>\n",
       "      <td>32130.475292</td>\n",
       "      <td>United Kingdom</td>\n",
       "    </tr>\n",
       "    <tr>\n",
       "      <th>515866</th>\n",
       "      <td>2011-11-30 15:33:00</td>\n",
       "      <td>579787</td>\n",
       "      <td>21929</td>\n",
       "      <td>JUMBO BAG PINK VINTAGE PAISLEY</td>\n",
       "      <td>1</td>\n",
       "      <td>4.13</td>\n",
       "      <td>NaN</td>\n",
       "      <td>25</td>\n",
       "      <td>female</td>\n",
       "      <td>32130.475292</td>\n",
       "      <td>United Kingdom</td>\n",
       "    </tr>\n",
       "    <tr>\n",
       "      <th>515867</th>\n",
       "      <td>2011-11-30 15:33:00</td>\n",
       "      <td>579787</td>\n",
       "      <td>21930</td>\n",
       "      <td>JUMBO STORAGE BAG SKULLS</td>\n",
       "      <td>2</td>\n",
       "      <td>4.13</td>\n",
       "      <td>NaN</td>\n",
       "      <td>25</td>\n",
       "      <td>female</td>\n",
       "      <td>32130.475292</td>\n",
       "      <td>United Kingdom</td>\n",
       "    </tr>\n",
       "  </tbody>\n",
       "</table>\n",
       "<p>124341 rows × 11 columns</p>\n",
       "</div>"
      ],
      "text/plain": [
       "                InvoiceDate InvoiceNo StockCode  \\\n",
       "1443    2010-12-01 14:32:00    536544     21773   \n",
       "1444    2010-12-01 14:32:00    536544     21774   \n",
       "1445    2010-12-01 14:32:00    536544     21786   \n",
       "1446    2010-12-01 14:32:00    536544     21787   \n",
       "1447    2010-12-01 14:32:00    536544     21790   \n",
       "...                     ...       ...       ...   \n",
       "515863  2011-11-30 15:33:00    579787     21888   \n",
       "515864  2011-11-30 15:33:00    579787     21912   \n",
       "515865  2011-11-30 15:33:00    579787     21916   \n",
       "515866  2011-11-30 15:33:00    579787     21929   \n",
       "515867  2011-11-30 15:33:00    579787     21930   \n",
       "\n",
       "                            Description  Quantity  UnitPrice  CustomerID  Age  \\\n",
       "1443    DECORATIVE ROSE BATHROOM BOTTLE         1       2.51         NaN   25   \n",
       "1444    DECORATIVE CATS BATHROOM BOTTLE         2       2.51         NaN   25   \n",
       "1445                  POLKADOT RAIN HAT         4       0.85         NaN   25   \n",
       "1446              RAIN PONCHO RETROSPOT         2       1.66         NaN   25   \n",
       "1447                 VINTAGE SNAP CARDS         9       1.66         NaN   25   \n",
       "...                                 ...       ...        ...         ...  ...   \n",
       "515863                        BINGO SET         2       7.46         NaN   25   \n",
       "515864         VINTAGE SNAKES & LADDERS         1       7.46         NaN   25   \n",
       "515865  SET 12 RETRO WHITE CHALK STICKS         1       0.79         NaN   25   \n",
       "515866   JUMBO BAG PINK VINTAGE PAISLEY         1       4.13         NaN   25   \n",
       "515867         JUMBO STORAGE BAG SKULLS         2       4.13         NaN   25   \n",
       "\n",
       "        Gender        Income         Country  \n",
       "1443    female  32130.475292  United Kingdom  \n",
       "1444    female  32130.475292  United Kingdom  \n",
       "1445    female  32130.475292  United Kingdom  \n",
       "1446    female  32130.475292  United Kingdom  \n",
       "1447    female  32130.475292  United Kingdom  \n",
       "...        ...           ...             ...  \n",
       "515863  female  32130.475292  United Kingdom  \n",
       "515864  female  32130.475292  United Kingdom  \n",
       "515865  female  32130.475292  United Kingdom  \n",
       "515866  female  32130.475292  United Kingdom  \n",
       "515867  female  32130.475292  United Kingdom  \n",
       "\n",
       "[124341 rows x 11 columns]"
      ]
     },
     "execution_count": 50,
     "metadata": {},
     "output_type": "execute_result"
    }
   ],
   "source": [
    "# Проверка записей, в которых идентификатор клиента (CustomerID) имеет пустые значения\n",
    "df[df.CustomerID.isnull()]"
   ]
  },
  {
   "cell_type": "code",
   "execution_count": 51,
   "id": "3fed1724-4c45-4394-94fc-2806a142a67d",
   "metadata": {},
   "outputs": [],
   "source": [
    "# Удаление записей, в которых идентификатор клиента (CustomerID) имеет пустые значения\n",
    "df = df[~df.CustomerID.isnull()]"
   ]
  },
  {
   "cell_type": "markdown",
   "id": "7a7bb452-3ace-4e1c-a2c1-a91f1aa4c944",
   "metadata": {
    "jp-MarkdownHeadingCollapsed": true
   },
   "source": [
    "## 2 этап -- нахождение различий\n"
   ]
  },
  {
   "cell_type": "code",
   "execution_count": null,
   "id": "a83722f5-7272-4836-acfd-697b6c49170e",
   "metadata": {},
   "outputs": [],
   "source": []
  },
  {
   "cell_type": "markdown",
   "id": "e46f4097-a55e-48da-9fbb-b6baea9a423e",
   "metadata": {
    "jp-MarkdownHeadingCollapsed": true
   },
   "source": [
    "### Категориальные данные"
   ]
  },
  {
   "cell_type": "code",
   "execution_count": null,
   "id": "1ce70ce7-6d1c-427a-a431-d5ee470bf6d7",
   "metadata": {},
   "outputs": [],
   "source": [
    "sns.countplot(x = 'Country', hue = 'Gender', data = df)"
   ]
  },
  {
   "cell_type": "code",
   "execution_count": null,
   "id": "36c4dc80-43a4-46c8-92aa-cf759a15c128",
   "metadata": {},
   "outputs": [],
   "source": [
    "# добавим еще один признак (пол) через параметр col\n",
    "sns.countplot(x = 'Country', hue = 'Gender', data = df);\n",
    "sns.catplot(x = 'Country', hue = 'Gender',\n",
    "            col = 'Description', kind = 'count', data = df);"
   ]
  },
  {
   "cell_type": "markdown",
   "id": "e6ef8178-2783-4f48-af82-253a3124ae48",
   "metadata": {},
   "source": [
    "### Количественные данные"
   ]
  },
  {
   "cell_type": "markdown",
   "id": "8fe3afd2-ca14-4cc0-811b-109d5748612d",
   "metadata": {},
   "source": [
    "## 3 этап -- выявление взаимосвязи\n"
   ]
  },
  {
   "cell_type": "code",
   "execution_count": null,
   "id": "c5e604de-7e69-4ed6-9919-1469d3995b5a",
   "metadata": {},
   "outputs": [],
   "source": []
  },
  {
   "cell_type": "markdown",
   "id": "66b867c2-ed47-4151-a84f-79af07a47318",
   "metadata": {},
   "source": [
    "# Когортный анализ\n"
   ]
  },
  {
   "cell_type": "markdown",
   "id": "f7dc0ecf-27f9-462e-80ff-e9e034df4fd5",
   "metadata": {},
   "source": [
    "# RFM-анализ\n"
   ]
  }
 ],
 "metadata": {
  "kernelspec": {
   "display_name": "Python 3 (ipykernel)",
   "language": "python",
   "name": "python3"
  },
  "language_info": {
   "codemirror_mode": {
    "name": "ipython",
    "version": 3
   },
   "file_extension": ".py",
   "mimetype": "text/x-python",
   "name": "python",
   "nbconvert_exporter": "python",
   "pygments_lexer": "ipython3",
   "version": "3.12.3"
  }
 },
 "nbformat": 4,
 "nbformat_minor": 5
}
