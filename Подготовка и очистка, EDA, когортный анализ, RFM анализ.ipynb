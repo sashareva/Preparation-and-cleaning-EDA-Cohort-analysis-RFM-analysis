{
 "cells": [
  {
   "cell_type": "code",
   "execution_count": null,
   "id": "9843a184-f7fb-4c94-a4c6-fccb12995754",
   "metadata": {},
   "outputs": [],
   "source": [
    "!pip install pandas \n",
    "!pip install numpy\n",
    "#!pip install matplotlib\n",
    "#!pip install datetime\n",
    "#!pip install seaborn\n",
    "\n",
    "import pandas as pd \n",
    "import numpy as np\n",
    "#import matplotlib.pyplot as plt\n",
    "#import datetime as dt\n",
    "#import seaborn as sns"
   ]
  },
  {
   "cell_type": "markdown",
   "id": "b7dcbe1f-9cf0-4b82-a3b9-23a3742662a1",
   "metadata": {},
   "source": [
    "# Создание вспомогательных функций\n",
    "\n",
    "Создадим функции, которые упростят процесс вывода всей необходимой информации о датасете."
   ]
  },
  {
   "cell_type": "code",
   "execution_count": 41,
   "id": "7204d511-30ab-4659-909e-7ee0f0e706a8",
   "metadata": {},
   "outputs": [],
   "source": [
    "# функция для обзора датасета\n",
    "def overview_df(df):\n",
    "    print(\" HEAD OF DATAFRAME \".center(100,'-'), '\\n', df.head())\n",
    "    print(\" INFO OF DATAFRAME \".center(100,'-'))\n",
    "    df.info()\n",
    "    print(\" SHAPE \".center(100,'-'), '\\n', 'Rows: {}'.format(df.shape[0]), '\\n', 'Columns: {}'.format(df.shape[1]))\n",
    "    print(\" TYPES \".center(100,'-'), '\\n', df.dtypes)\n",
    "    print(\" NUMBER OF UNIQUES \".center(100,'-'), '\\n', df.nunique())\n",
    "    print(\" MISSING VALUES \".center(100,'-'), '\\n', missing_values(df))\n",
    "    print(\" DUPLICATED VALUES \".center(100,'-'), '\\n', cheking_duplicates(df))\n",
    "    print(\" DESCRIPTIVE STATISTICS \".center(100,'-'), '\\n', df.describe().T)\n",
    "\n",
    "# функция для поиска пропущенных значений\n",
    "def missing_values(df):\n",
    "    mn = df.isnull().sum().sort_values(ascending=False)\n",
    "    mp = (df.isnull().sum()/df.isnull().count()*100).sort_values(ascending=False)\n",
    "    missing_values = pd.concat([mn, mp], axis=1, keys=['Missing_Number', 'Missing_Percent'])\n",
    "    return missing_values[missing_values['Missing_Number']>0]\n",
    "\n",
    "# функция для проверки и подсчета количества дубликатов\n",
    "def cheking_duplicates(df):\n",
    "    duplicate_values = df.duplicated(keep='first').sum()\n",
    "    if duplicate_values > 0:\n",
    "        df.drop_duplicates(keep='first', inplace=True)\n",
    "        return 'The number of duplicated values is ' + str(duplicate_values) + '. Duplicates were dropped. New shape is ' + str(df.shape)\n",
    "    else:\n",
    "        return 'The number of duplicated values is 0.'"
   ]
  },
  {
   "cell_type": "code",
   "execution_count": null,
   "id": "97a1ef27-8303-4f70-b417-ee8c01b8aed2",
   "metadata": {},
   "outputs": [],
   "source": [
    "# Первичный обзор датасета\n",
    "\n",
    "С помощью написанной функции overview_df(df) выведем ..."
   ]
  },
  {
   "cell_type": "code",
   "execution_count": null,
   "id": "1f20b184-2b4d-4c1d-a77e-60a89ba5caae",
   "metadata": {},
   "outputs": [],
   "source": [
    "df0 = pd.read_csv(r'C:\\Users\\Александра\\Desktop\\customer.csv')\n",
    "df = df0.copy()\n",
    "\n",
    "overview_df(df)"
   ]
  },
  {
   "cell_type": "markdown",
   "id": "9e4a0633-2828-492f-950d-dd4a7a91fcc8",
   "metadata": {},
   "source": [
    "# Basic data cleaning\n",
    "\n",
    "Дубликаты уже были посчитаны и удалены во время составления первичного обзора датасета. \n",
    "Далее перейдем к описанию данных, содержащихся в каждом из столбцов, и разберемся, какие из них и почему необходимо почистить.\n",
    "Почередно проверим, все ли данные из столбцов подходят для анализа, и сделаем выводы о полученной информации."
   ]
  },
  {
   "cell_type": "markdown",
   "id": "5eb46e1a-11ca-473c-a9ed-6f5851c037dd",
   "metadata": {},
   "source": [
    "## Столбец 0 InvoiceDate"
   ]
  },
  {
   "cell_type": "code",
   "execution_count": 43,
   "id": "a8e549b6-46a2-44ba-902d-7446d434da64",
   "metadata": {},
   "outputs": [
    {
     "name": "stdout",
     "output_type": "stream",
     "text": [
      "The minimum date is: 2010-12-01 08:26:00\n",
      "The maximum date is: 2011-12-09 12:50:00\n"
     ]
    }
   ],
   "source": [
    "# Первая покупка в датасете\n",
    "print('The minimum date is:', df.InvoiceDate.min())\n",
    "\n",
    "# Последняя покупка в датасете\n",
    "print('The maximum date is:', df.InvoiceDate.max())"
   ]
  },
  {
   "cell_type": "markdown",
   "id": "e8e2d18b-a77f-4609-8a4f-338d60dc49dd",
   "metadata": {},
   "source": [
    "Из собранных данных можно заметить, что первая запись в датасете относится к 1 декабря 2010 года в 8:26, а последняя — к 9 декабря 2011 года в 12:50.\n",
    "Исходя из этого, можем исключить декабрь 2011 года из анализа, поскольку нет полной информации об этом месяце."
   ]
  },
  {
   "cell_type": "code",
   "execution_count": 44,
   "id": "5a35e95e-1239-4c3c-b33e-b1f080477a7c",
   "metadata": {},
   "outputs": [],
   "source": [
    "# Удаление записи из датафрейма за декабрь 2011 года\n",
    "df = df[df.InvoiceDate < '2011-12-01']"
   ]
  },
  {
   "cell_type": "markdown",
   "id": "40d86e02-cd5d-4514-bb85-bd5fdd91cd6d",
   "metadata": {},
   "source": [
    "## Столбец 1 InvoiceNo"
   ]
  },
  {
   "cell_type": "code",
   "execution_count": null,
   "id": "04479ada-ae75-4446-9a11-ceb3e641b298",
   "metadata": {},
   "outputs": [],
   "source": [
    "# Номера операций/заказов (InvoiceNo), начинающиеся с символа 'C', который указывает на возвращенные или отмененные заказы\n",
    "df[df['InvoiceNo'].str.startswith('C') == True]"
   ]
  },
  {
   "cell_type": "code",
   "execution_count": 46,
   "id": "9b58b8cc-43f4-473d-a8ca-2b82c2d884b9",
   "metadata": {},
   "outputs": [],
   "source": [
    "# Удаление всех номеров операций (InvoiceNo), начинающихся с символа 'C'\n",
    "df = df[df['InvoiceNo'].str.startswith('C') != True]"
   ]
  },
  {
   "cell_type": "code",
   "execution_count": null,
   "id": "89e6a3e8-ecbd-4610-9b4d-4e6947da3a90",
   "metadata": {},
   "outputs": [],
   "source": [
    "# Проверка количества уникальных номеров операций (InvoiceNo)\n",
    "df.InvoiceNo.nunique()"
   ]
  },
  {
   "cell_type": "markdown",
   "id": "0cc7c969-c067-49d3-bad3-89766deec230",
   "metadata": {},
   "source": [
    "## Столбец 2 StockCode"
   ]
  },
  {
   "cell_type": "code",
   "execution_count": null,
   "id": "664d4ad0-3e65-4d27-bc89-c7fe92fa867d",
   "metadata": {},
   "outputs": [],
   "source": [
    "# Проверка количества уникальных биржевых кодов-идентификаторов (StockCode) среди всех записей о продажах\n",
    "df.StockCode.nunique()"
   ]
  },
  {
   "cell_type": "code",
   "execution_count": null,
   "id": "64168ce0-4a0f-4516-94ad-499e58f6a82c",
   "metadata": {},
   "outputs": [],
   "source": [
    "# Топ-10 биржевых кодов-идентификаторов (StockCode), которые продавались чаще всего\n",
    "df.StockCode.value_counts().head(10)"
   ]
  },
  {
   "cell_type": "markdown",
   "id": "c2406afe-e170-44d5-a0e5-6c4ea103c56e",
   "metadata": {},
   "source": [
    "## Столбец 3 Description"
   ]
  },
  {
   "cell_type": "code",
   "execution_count": null,
   "id": "d3a7e41e-aa64-4dc6-8ace-63b59293801a",
   "metadata": {},
   "outputs": [],
   "source": [
    "# Проверка количества уникальных описаний товаров (Description) среди всех записей о продажах\n",
    "df.Description.nunique()"
   ]
  },
  {
   "cell_type": "code",
   "execution_count": null,
   "id": "66e754f1-7dc3-4905-a3d3-1f9ca6ff7e9a",
   "metadata": {},
   "outputs": [],
   "source": [
    "# Топ-10 проданных описаний товаров (Description)\n",
    "df.Description.value_counts().head(10)"
   ]
  },
  {
   "cell_type": "markdown",
   "id": "978976dd-533d-4e92-9107-22015ba5e1c2",
   "metadata": {},
   "source": [
    "Обратим внимание, что бывают записи, в которых описания товаров (Description) содержат некоторую информацию, не относящуюся к продажам. "
   ]
  },
  {
   "cell_type": "code",
   "execution_count": null,
   "id": "88525f88-2386-4bef-8aff-53cc2a6c85e3",
   "metadata": {},
   "outputs": [],
   "source": [
    "# Проверка данных, где записи описаний (Description) состоят из '?' или начинаются с '?'\n",
    "df[df['Description'].str.startswith('?') == True]"
   ]
  },
  {
   "cell_type": "code",
   "execution_count": 53,
   "id": "1c05613e-d069-4950-b881-390634702ced",
   "metadata": {},
   "outputs": [],
   "source": [
    "# Заметим, что при этом CustomerId = NaN и цена за единицу товара UnitPrice = 0\n",
    "# Удаление всех полученных записей\n",
    "df = df[df['Description'].str.startswith('?') != True]"
   ]
  },
  {
   "cell_type": "code",
   "execution_count": null,
   "id": "95c0e991-7d41-4316-afad-434245375173",
   "metadata": {},
   "outputs": [],
   "source": [
    "# Проверяем данных, где записи описаний (Description) начинаются с '*' \n",
    "df[df['Description'].str.startswith('*') == True]"
   ]
  },
  {
   "cell_type": "code",
   "execution_count": 16,
   "id": "d9352125-2e71-4e43-b933-8099465cb0f7",
   "metadata": {},
   "outputs": [],
   "source": [
    "# Заметим, что при этом CustomerId = NaN\n",
    "# Изменение записей на соответствующие описания (Description) без символа '*' и перевод в верхний регистр, как и во всех остальных записях\n",
    "df['Description'] = df['Description'].replace(('*Boombox Ipod Classic','*USB Office Mirror Ball'),\n",
    "                                             ('BOOMBOX IPOD CLASSIC','USB OFFICE MIRROR BALL'))"
   ]
  },
  {
   "cell_type": "code",
   "execution_count": null,
   "id": "7dccc734-c97a-45f9-b85e-82feb2bd4a0e",
   "metadata": {},
   "outputs": [],
   "source": [
    "# \n",
    "df[df['Description'].str.islower() == True]['Description'].value_counts()"
   ]
  },
  {
   "cell_type": "code",
   "execution_count": null,
   "id": "d6d2e487-50be-4a72-9839-4ee7de739ae4",
   "metadata": {},
   "outputs": [],
   "source": [
    "# \n",
    "df = df[df['Description'].str.islower()!=True]\n",
    "df.shape"
   ]
  },
  {
   "cell_type": "code",
   "execution_count": null,
   "id": "3f715615-2517-4420-8ab7-6b506b668b56",
   "metadata": {},
   "outputs": [],
   "source": [
    "# \n",
    "df[df['Description'].str.istitle()==True]['Description'].value_counts()"
   ]
  },
  {
   "cell_type": "code",
   "execution_count": null,
   "id": "ca2e60f9-03d2-495d-926c-753ce557f990",
   "metadata": {},
   "outputs": [],
   "source": [
    "# \n",
    "df = df[df['Description'].str.istitle()!=True]\n",
    "df.shape"
   ]
  },
  {
   "cell_type": "code",
   "execution_count": 21,
   "id": "319e983b-982b-49bc-8e54-2d5644bc143b",
   "metadata": {},
   "outputs": [],
   "source": [
    "#\n",
    "df['Description'] = df['Description'].str.strip()"
   ]
  },
  {
   "cell_type": "markdown",
   "id": "cecf56f6-f9ce-497d-b727-13309241c69e",
   "metadata": {},
   "source": [
    "## Столбец 4 Quantity"
   ]
  },
  {
   "cell_type": "code",
   "execution_count": null,
   "id": "a5504593-190a-4110-9c13-4a74d70af997",
   "metadata": {},
   "outputs": [],
   "source": [
    "# \n",
    "# \n",
    "#df.Quantity.describe() есть в общем обзоре\n",
    "\n",
    "# \n",
    "df[df['Quantity']<0]"
   ]
  },
  {
   "cell_type": "code",
   "execution_count": null,
   "id": "6b26b415-b837-44fb-9809-e7280af83f0f",
   "metadata": {},
   "outputs": [],
   "source": [
    "# \n",
    "df = df[df['Quantity']>=0]\n",
    "df.shape"
   ]
  },
  {
   "cell_type": "markdown",
   "id": "306df0a1-def1-487a-af8d-40abd578b33b",
   "metadata": {},
   "source": [
    "## Столбец 5 UnitPrice"
   ]
  },
  {
   "cell_type": "code",
   "execution_count": null,
   "id": "4018983e-abfb-49dc-9212-9e2758d52225",
   "metadata": {},
   "outputs": [],
   "source": [
    "# \n",
    "df.UnitPrice.describe(percentiles=[0.25, 0.5, 0.75, 0.85,0.95, 0.99])"
   ]
  },
  {
   "cell_type": "code",
   "execution_count": 25,
   "id": "86a49c7b-8d2c-4943-876c-5fdc46794c2a",
   "metadata": {},
   "outputs": [],
   "source": [
    "# \n",
    "df = df[df['UnitPrice'] != 0.0]"
   ]
  },
  {
   "cell_type": "code",
   "execution_count": null,
   "id": "dbc11cf2-f19d-4f0b-8a6c-81bd5f418bf0",
   "metadata": {},
   "outputs": [],
   "source": [
    "df.shape"
   ]
  },
  {
   "cell_type": "markdown",
   "id": "a1bd9e58-d9b8-48bf-871b-ae9e1a376588",
   "metadata": {},
   "source": [
    "## Столбец 6 CustomerID\n"
   ]
  },
  {
   "cell_type": "code",
   "execution_count": null,
   "id": "ef51cb2d-a382-4436-9c65-b45f185207f1",
   "metadata": {},
   "outputs": [],
   "source": [
    "# \n",
    "df.CustomerID.nunique()"
   ]
  },
  {
   "cell_type": "code",
   "execution_count": null,
   "id": "add13cb2-d5b6-410d-b1d8-cb6c68053bcf",
   "metadata": {},
   "outputs": [],
   "source": [
    "# \n",
    "df[df.CustomerID.isnull()]"
   ]
  },
  {
   "cell_type": "code",
   "execution_count": 29,
   "id": "d7e790ee-22b5-4206-bce8-8376404e7586",
   "metadata": {},
   "outputs": [
    {
     "data": {
      "text/plain": [
       "(375312, 11)"
      ]
     },
     "execution_count": 29,
     "metadata": {},
     "output_type": "execute_result"
    }
   ],
   "source": [
    "# \n",
    "df = df[~df.CustomerID.isnull()]\n",
    "df.shape"
   ]
  },
  {
   "cell_type": "markdown",
   "id": "05d8f75f-238a-414e-a593-c63d921e699e",
   "metadata": {},
   "source": [
    "## Столбец 7 Age"
   ]
  },
  {
   "cell_type": "code",
   "execution_count": null,
   "id": "1996ac8a-5159-4154-b2c7-3294e87ace71",
   "metadata": {},
   "outputs": [],
   "source": [
    "df.Age.value_counts(normalize=True)"
   ]
  },
  {
   "cell_type": "code",
   "execution_count": null,
   "id": "bd76f2c1-51e2-4dff-abf8-5b94d188fdd5",
   "metadata": {},
   "outputs": [],
   "source": [
    "# \n",
    "df.Age.value_counts().head(10)"
   ]
  },
  {
   "cell_type": "markdown",
   "id": "37157eb1-bd21-4563-a891-0c35adcfd7ab",
   "metadata": {},
   "source": [
    "## Столбец 8 Gender\n"
   ]
  },
  {
   "cell_type": "code",
   "execution_count": null,
   "id": "a7c38a18-b180-4590-b2b8-daf745d01d1e",
   "metadata": {},
   "outputs": [],
   "source": [
    "df.Gender.value_counts(normalize=True)"
   ]
  },
  {
   "cell_type": "markdown",
   "id": "f443a210-e1eb-448b-820d-8e7e398b96de",
   "metadata": {},
   "source": [
    "## Столбец 9 Income\n"
   ]
  },
  {
   "cell_type": "code",
   "execution_count": null,
   "id": "c027a1f6-c3e8-4a5f-9d53-37c9d69c68b3",
   "metadata": {},
   "outputs": [],
   "source": [
    "df.Income.value_counts(normalize=True)"
   ]
  },
  {
   "cell_type": "code",
   "execution_count": null,
   "id": "fc93e818-1934-4502-93d9-f37807e49cc4",
   "metadata": {},
   "outputs": [],
   "source": [
    "df.Income.value_counts(normalize=True, bins = 10)"
   ]
  },
  {
   "cell_type": "markdown",
   "id": "8da4747c-aa9b-4699-9ddd-281cdaf9b2ab",
   "metadata": {},
   "source": [
    "## Столбец 10 Country"
   ]
  },
  {
   "cell_type": "code",
   "execution_count": null,
   "id": "9691cb31-944b-415f-8f43-abe73c139474",
   "metadata": {},
   "outputs": [],
   "source": [
    "# \n",
    "df.Country.value_counts(normalize=True)"
   ]
  },
  {
   "cell_type": "code",
   "execution_count": null,
   "id": "3f440e0f-81cc-4e19-97c2-a781e04a6445",
   "metadata": {},
   "outputs": [],
   "source": [
    "# \n",
    "df['Country'] = df['Country'].apply(lambda x:'United Kingdom' if x=='United Kingdom' else 'Others')\n",
    "df.Country.value_counts(normalize=True)"
   ]
  },
  {
   "cell_type": "markdown",
   "id": "d12c65a5-2fb0-4c28-bd71-dafebe26489e",
   "metadata": {},
   "source": [
    "# Вторичный обзор датасета после базовой чистки данных\n"
   ]
  },
  {
   "cell_type": "code",
   "execution_count": null,
   "id": "e45ce729-f3af-4f63-982d-e6a116afbde3",
   "metadata": {},
   "outputs": [],
   "source": [
    "# вывод обзора с помощью той же написанной функции\n",
    "overview_df(df)"
   ]
  },
  {
   "cell_type": "markdown",
   "id": "7a7bb452-3ace-4e1c-a2c1-a91f1aa4c944",
   "metadata": {},
   "source": [
    "# Исследовательский анализ данных (Exploratory Data Analysis - EDA) \n"
   ]
  },
  {
   "cell_type": "markdown",
   "id": "66b867c2-ed47-4151-a84f-79af07a47318",
   "metadata": {},
   "source": [
    "# Когортный анализ\n"
   ]
  },
  {
   "cell_type": "markdown",
   "id": "f7dc0ecf-27f9-462e-80ff-e9e034df4fd5",
   "metadata": {},
   "source": [
    "# RFM-анализ\n"
   ]
  }
 ],
 "metadata": {
  "kernelspec": {
   "display_name": "Python 3 (ipykernel)",
   "language": "python",
   "name": "python3"
  },
  "language_info": {
   "codemirror_mode": {
    "name": "ipython",
    "version": 3
   },
   "file_extension": ".py",
   "mimetype": "text/x-python",
   "name": "python",
   "nbconvert_exporter": "python",
   "pygments_lexer": "ipython3",
   "version": "3.12.3"
  }
 },
 "nbformat": 4,
 "nbformat_minor": 5
}
