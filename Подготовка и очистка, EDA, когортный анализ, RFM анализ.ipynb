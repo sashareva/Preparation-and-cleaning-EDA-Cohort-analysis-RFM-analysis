{
 "cells": [
  {
   "cell_type": "code",
   "execution_count": 1,
   "id": "9843a184-f7fb-4c94-a4c6-fccb12995754",
   "metadata": {},
   "outputs": [
    {
     "name": "stdout",
     "output_type": "stream",
     "text": [
      "Requirement already satisfied: pandas in c:\\users\\александра\\appdata\\local\\programs\\python\\python312\\lib\\site-packages (2.2.2)\n",
      "Requirement already satisfied: numpy>=1.26.0 in c:\\users\\александра\\appdata\\local\\programs\\python\\python312\\lib\\site-packages (from pandas) (1.26.4)\n",
      "Requirement already satisfied: python-dateutil>=2.8.2 in c:\\users\\александра\\appdata\\local\\programs\\python\\python312\\lib\\site-packages (from pandas) (2.9.0.post0)\n",
      "Requirement already satisfied: pytz>=2020.1 in c:\\users\\александра\\appdata\\local\\programs\\python\\python312\\lib\\site-packages (from pandas) (2024.1)\n",
      "Requirement already satisfied: tzdata>=2022.7 in c:\\users\\александра\\appdata\\local\\programs\\python\\python312\\lib\\site-packages (from pandas) (2024.1)\n",
      "Requirement already satisfied: six>=1.5 in c:\\users\\александра\\appdata\\local\\programs\\python\\python312\\lib\\site-packages (from python-dateutil>=2.8.2->pandas) (1.16.0)\n",
      "Requirement already satisfied: numpy in c:\\users\\александра\\appdata\\local\\programs\\python\\python312\\lib\\site-packages (1.26.4)\n"
     ]
    }
   ],
   "source": [
    "!pip install pandas \n",
    "!pip install numpy\n",
    "#!pip install matplotlib\n",
    "#!pip install datetime\n",
    "#!pip install seaborn\n",
    "\n",
    "import pandas as pd \n",
    "import numpy as np\n",
    "#import matplotlib.pyplot as plt\n",
    "#import datetime as dt\n",
    "#import seaborn as sns"
   ]
  },
  {
   "cell_type": "markdown",
   "id": "b7dcbe1f-9cf0-4b82-a3b9-23a3742662a1",
   "metadata": {},
   "source": [
    "# Создание вспомогательных функций\n",
    "\n",
    "Создадим функции, которые упростят процесс вывода всей необходимой информации о датасете."
   ]
  },
  {
   "cell_type": "code",
   "execution_count": 2,
   "id": "7204d511-30ab-4659-909e-7ee0f0e706a8",
   "metadata": {},
   "outputs": [],
   "source": [
    "# Функция для обзора датасета\n",
    "def overview_df(df):\n",
    "    print(\" HEAD OF DATAFRAME \".center(100,'-'), '\\n', df.head())\n",
    "    print(\" INFO OF DATAFRAME \".center(100,'-'))\n",
    "    df.info()\n",
    "    print(\" SHAPE \".center(100,'-'), '\\n', 'Rows: {}'.format(df.shape[0]), '\\n', 'Columns: {}'.format(df.shape[1]))\n",
    "    print(\" TYPES \".center(100,'-'), '\\n', df.dtypes)\n",
    "    print(\" NUMBER OF UNIQUES \".center(100,'-'), '\\n', df.nunique())\n",
    "    print(\" MISSING VALUES \".center(100,'-'), '\\n', missing_values(df))\n",
    "    print(\" DUPLICATED VALUES \".center(100,'-'), '\\n', cheking_duplicates(df))\n",
    "    print(\" DESCRIPTIVE STATISTICS \".center(100,'-'), '\\n', df.describe().T)\n",
    "\n",
    "# Функция для поиска пропущенных значений\n",
    "def missing_values(df):\n",
    "    mn = df.isnull().sum().sort_values(ascending = False)\n",
    "    mp = (df.isnull().sum()/df.isnull().count()*100).sort_values(ascending = False)\n",
    "    missing_values = pd.concat([mn, mp], axis = 1, keys = ['Missing_Number', 'Missing_Percent'])\n",
    "    if mn.sum() > 0:\n",
    "        return missing_values[missing_values['Missing_Number'] > 0]\n",
    "    else:\n",
    "        return 'There are no missing values.'\n",
    "\n",
    "# Функция для проверки и подсчета количества дубликатов\n",
    "def cheking_duplicates(df):\n",
    "    duplicate_values = df.duplicated(keep='first').sum()\n",
    "    if duplicate_values > 0:\n",
    "        df.drop_duplicates(keep='first', inplace=True)\n",
    "        return 'The number of duplicated values is ' + str(duplicate_values) + '. Duplicates were dropped. New shape is ' + str(df.shape)\n",
    "    else:\n",
    "        return 'There are no duplicate values.'"
   ]
  },
  {
   "cell_type": "markdown",
   "id": "39f763bd-f72c-43b1-aa8b-45acf384ffa3",
   "metadata": {},
   "source": [
    "# Первичный обзор датасета\n",
    "\n",
    "С помощью написанной функции overview_df(df) выведем всю информацию о датасете."
   ]
  },
  {
   "cell_type": "code",
   "execution_count": 3,
   "id": "1f20b184-2b4d-4c1d-a77e-60a89ba5caae",
   "metadata": {},
   "outputs": [
    {
     "name": "stdout",
     "output_type": "stream",
     "text": [
      "---------------------------------------- HEAD OF DATAFRAME ----------------------------------------- \n",
      "            InvoiceDate InvoiceNo StockCode  \\\n",
      "0  2010-12-01 08:26:00    536365    85123A   \n",
      "1  2010-12-01 08:26:00    536365     71053   \n",
      "2  2010-12-01 08:26:00    536365    84406B   \n",
      "3  2010-12-01 08:26:00    536365    84029G   \n",
      "4  2010-12-01 08:26:00    536365    84029E   \n",
      "\n",
      "                           Description  Quantity  UnitPrice  CustomerID  Age  \\\n",
      "0   WHITE HANGING HEART T-LIGHT HOLDER         6       2.55     17850.0   77   \n",
      "1                  WHITE METAL LANTERN         6       3.39     17850.0   77   \n",
      "2       CREAM CUPID HEARTS COAT HANGER         8       2.75     17850.0   77   \n",
      "3  KNITTED UNION FLAG HOT WATER BOTTLE         6       3.39     17850.0   77   \n",
      "4       RED WOOLLY HOTTIE WHITE HEART.         6       3.39     17850.0   77   \n",
      "\n",
      "   Gender        Income         Country  \n",
      "0  female  26300.794657  United Kingdom  \n",
      "1  female  26300.794657  United Kingdom  \n",
      "2  female  26300.794657  United Kingdom  \n",
      "3  female  26300.794657  United Kingdom  \n",
      "4  female  26300.794657  United Kingdom  \n",
      "---------------------------------------- INFO OF DATAFRAME -----------------------------------------\n",
      "<class 'pandas.core.frame.DataFrame'>\n",
      "RangeIndex: 541909 entries, 0 to 541908\n",
      "Data columns (total 11 columns):\n",
      " #   Column       Non-Null Count   Dtype  \n",
      "---  ------       --------------   -----  \n",
      " 0   InvoiceDate  541909 non-null  object \n",
      " 1   InvoiceNo    541909 non-null  object \n",
      " 2   StockCode    541909 non-null  object \n",
      " 3   Description  540455 non-null  object \n",
      " 4   Quantity     541909 non-null  int64  \n",
      " 5   UnitPrice    541909 non-null  float64\n",
      " 6   CustomerID   406829 non-null  float64\n",
      " 7   Age          541909 non-null  int64  \n",
      " 8   Gender       541909 non-null  object \n",
      " 9   Income       541909 non-null  float64\n",
      " 10  Country      541909 non-null  object \n",
      "dtypes: float64(3), int64(2), object(6)\n",
      "memory usage: 45.5+ MB\n",
      "---------------------------------------------- SHAPE ----------------------------------------------- \n",
      " Rows: 541909 \n",
      " Columns: 11\n",
      "---------------------------------------------- TYPES ----------------------------------------------- \n",
      " InvoiceDate     object\n",
      "InvoiceNo       object\n",
      "StockCode       object\n",
      "Description     object\n",
      "Quantity         int64\n",
      "UnitPrice      float64\n",
      "CustomerID     float64\n",
      "Age              int64\n",
      "Gender          object\n",
      "Income         float64\n",
      "Country         object\n",
      "dtype: object\n",
      "---------------------------------------- NUMBER OF UNIQUES ----------------------------------------- \n",
      " InvoiceDate    23260\n",
      "InvoiceNo      25900\n",
      "StockCode       4070\n",
      "Description     4223\n",
      "Quantity         722\n",
      "UnitPrice       1630\n",
      "CustomerID      4372\n",
      "Age               80\n",
      "Gender             2\n",
      "Income          4373\n",
      "Country           38\n",
      "dtype: int64\n",
      "------------------------------------------ MISSING VALUES ------------------------------------------ \n",
      "              Missing_Number  Missing_Percent\n",
      "CustomerID           135080        24.926694\n",
      "Description            1454         0.268311\n",
      "---------------------------------------- DUPLICATED VALUES ----------------------------------------- \n",
      " The number of duplicated values is 5268. Duplicates were dropped. New shape is (536641, 11)\n",
      "-------------------------------------- DESCRIPTIVE STATISTICS -------------------------------------- \n",
      "                count          mean          std           min           25%  \\\n",
      "Quantity    536641.0      9.620029   219.130156 -80995.000000      1.000000   \n",
      "UnitPrice   536641.0      4.632656    97.233118 -11062.060000      1.250000   \n",
      "CustomerID  401604.0  15281.160818  1714.006089  12346.000000  13939.000000   \n",
      "Age         536641.0     34.855714    12.984770     15.000000     25.000000   \n",
      "Income      536641.0  33126.835198  5611.766674  18662.725643  32130.475292   \n",
      "\n",
      "                     50%           75%           max  \n",
      "Quantity        3.000000     10.000000  80995.000000  \n",
      "UnitPrice       2.080000      4.130000  38970.000000  \n",
      "CustomerID  15145.000000  16784.000000  18287.000000  \n",
      "Age            31.000000     43.000000    100.000000  \n",
      "Income      32428.619135  33789.047429  45925.206366  \n"
     ]
    }
   ],
   "source": [
    "df0 = pd.read_csv(r'C:\\Users\\Александра\\Desktop\\customer.csv')\n",
    "df = df0.copy()\n",
    "\n",
    "overview_df(df)"
   ]
  },
  {
   "cell_type": "markdown",
   "id": "9e4a0633-2828-492f-950d-dd4a7a91fcc8",
   "metadata": {},
   "source": [
    "# Basic data cleaning\n",
    "\n",
    "Дубликаты уже были посчитаны и удалены во время составления первичного обзора датасета. \n",
    "Далее перейдем к описанию данных, содержащихся в каждом из столбцов, и разберемся, какие из них и почему необходимо почистить.\n",
    "Почередно проверим, все ли данные из столбцов подходят для анализа, и сделаем выводы о полученной информации."
   ]
  },
  {
   "cell_type": "markdown",
   "id": "5eb46e1a-11ca-473c-a9ed-6f5851c037dd",
   "metadata": {},
   "source": [
    "## Столбец 0 InvoiceDate"
   ]
  },
  {
   "cell_type": "code",
   "execution_count": 4,
   "id": "a8e549b6-46a2-44ba-902d-7446d434da64",
   "metadata": {},
   "outputs": [
    {
     "name": "stdout",
     "output_type": "stream",
     "text": [
      "The minimum date is: 2010-12-01 08:26:00\n",
      "The maximum date is: 2011-12-09 12:50:00\n"
     ]
    }
   ],
   "source": [
    "# Первая покупка в датасете\n",
    "print('The minimum date is:', df.InvoiceDate.min())\n",
    "\n",
    "# Последняя покупка в датасете\n",
    "print('The maximum date is:', df.InvoiceDate.max())"
   ]
  },
  {
   "cell_type": "markdown",
   "id": "e8e2d18b-a77f-4609-8a4f-338d60dc49dd",
   "metadata": {},
   "source": [
    "Из собранных данных можно заметить, что первая запись в датасете относится к 1 декабря 2010 года в 8:26, а последняя — к 9 декабря 2011 года в 12:50.\n",
    "Исходя из этого, можем исключить декабрь 2011 года из анализа, поскольку нет полной информации об этом месяце."
   ]
  },
  {
   "cell_type": "code",
   "execution_count": 5,
   "id": "5a35e95e-1239-4c3c-b33e-b1f080477a7c",
   "metadata": {},
   "outputs": [],
   "source": [
    "# Удаление записи из датафрейма за декабрь 2011 года\n",
    "df = df[df.InvoiceDate < '2011-12-01']"
   ]
  },
  {
   "cell_type": "markdown",
   "id": "40d86e02-cd5d-4514-bb85-bd5fdd91cd6d",
   "metadata": {},
   "source": [
    "## Столбец 1 InvoiceNo"
   ]
  },
  {
   "cell_type": "code",
   "execution_count": 6,
   "id": "04479ada-ae75-4446-9a11-ceb3e641b298",
   "metadata": {},
   "outputs": [
    {
     "data": {
      "text/html": [
       "<div>\n",
       "<style scoped>\n",
       "    .dataframe tbody tr th:only-of-type {\n",
       "        vertical-align: middle;\n",
       "    }\n",
       "\n",
       "    .dataframe tbody tr th {\n",
       "        vertical-align: top;\n",
       "    }\n",
       "\n",
       "    .dataframe thead th {\n",
       "        text-align: right;\n",
       "    }\n",
       "</style>\n",
       "<table border=\"1\" class=\"dataframe\">\n",
       "  <thead>\n",
       "    <tr style=\"text-align: right;\">\n",
       "      <th></th>\n",
       "      <th>InvoiceDate</th>\n",
       "      <th>InvoiceNo</th>\n",
       "      <th>StockCode</th>\n",
       "      <th>Description</th>\n",
       "      <th>Quantity</th>\n",
       "      <th>UnitPrice</th>\n",
       "      <th>CustomerID</th>\n",
       "      <th>Age</th>\n",
       "      <th>Gender</th>\n",
       "      <th>Income</th>\n",
       "      <th>Country</th>\n",
       "    </tr>\n",
       "  </thead>\n",
       "  <tbody>\n",
       "    <tr>\n",
       "      <th>141</th>\n",
       "      <td>2010-12-01 09:41:00</td>\n",
       "      <td>C536379</td>\n",
       "      <td>D</td>\n",
       "      <td>Discount</td>\n",
       "      <td>-1</td>\n",
       "      <td>27.50</td>\n",
       "      <td>14527.0</td>\n",
       "      <td>35</td>\n",
       "      <td>female</td>\n",
       "      <td>30268.760531</td>\n",
       "      <td>United Kingdom</td>\n",
       "    </tr>\n",
       "    <tr>\n",
       "      <th>154</th>\n",
       "      <td>2010-12-01 09:49:00</td>\n",
       "      <td>C536383</td>\n",
       "      <td>35004C</td>\n",
       "      <td>SET OF 3 COLOURED  FLYING DUCKS</td>\n",
       "      <td>-1</td>\n",
       "      <td>4.65</td>\n",
       "      <td>15311.0</td>\n",
       "      <td>38</td>\n",
       "      <td>female</td>\n",
       "      <td>33513.444454</td>\n",
       "      <td>United Kingdom</td>\n",
       "    </tr>\n",
       "    <tr>\n",
       "      <th>235</th>\n",
       "      <td>2010-12-01 10:24:00</td>\n",
       "      <td>C536391</td>\n",
       "      <td>22556</td>\n",
       "      <td>PLASTERS IN TIN CIRCUS PARADE</td>\n",
       "      <td>-12</td>\n",
       "      <td>1.65</td>\n",
       "      <td>17548.0</td>\n",
       "      <td>17</td>\n",
       "      <td>male</td>\n",
       "      <td>20649.029315</td>\n",
       "      <td>United Kingdom</td>\n",
       "    </tr>\n",
       "    <tr>\n",
       "      <th>236</th>\n",
       "      <td>2010-12-01 10:24:00</td>\n",
       "      <td>C536391</td>\n",
       "      <td>21984</td>\n",
       "      <td>PACK OF 12 PINK PAISLEY TISSUES</td>\n",
       "      <td>-24</td>\n",
       "      <td>0.29</td>\n",
       "      <td>17548.0</td>\n",
       "      <td>17</td>\n",
       "      <td>male</td>\n",
       "      <td>20649.029315</td>\n",
       "      <td>United Kingdom</td>\n",
       "    </tr>\n",
       "    <tr>\n",
       "      <th>237</th>\n",
       "      <td>2010-12-01 10:24:00</td>\n",
       "      <td>C536391</td>\n",
       "      <td>21983</td>\n",
       "      <td>PACK OF 12 BLUE PAISLEY TISSUES</td>\n",
       "      <td>-24</td>\n",
       "      <td>0.29</td>\n",
       "      <td>17548.0</td>\n",
       "      <td>17</td>\n",
       "      <td>male</td>\n",
       "      <td>20649.029315</td>\n",
       "      <td>United Kingdom</td>\n",
       "    </tr>\n",
       "    <tr>\n",
       "      <th>...</th>\n",
       "      <td>...</td>\n",
       "      <td>...</td>\n",
       "      <td>...</td>\n",
       "      <td>...</td>\n",
       "      <td>...</td>\n",
       "      <td>...</td>\n",
       "      <td>...</td>\n",
       "      <td>...</td>\n",
       "      <td>...</td>\n",
       "      <td>...</td>\n",
       "      <td>...</td>\n",
       "    </tr>\n",
       "    <tr>\n",
       "      <th>516379</th>\n",
       "      <td>2011-11-30 17:39:00</td>\n",
       "      <td>C579886</td>\n",
       "      <td>22197</td>\n",
       "      <td>POPCORN HOLDER</td>\n",
       "      <td>-1</td>\n",
       "      <td>0.85</td>\n",
       "      <td>15676.0</td>\n",
       "      <td>50</td>\n",
       "      <td>male</td>\n",
       "      <td>42712.949947</td>\n",
       "      <td>United Kingdom</td>\n",
       "    </tr>\n",
       "    <tr>\n",
       "      <th>516380</th>\n",
       "      <td>2011-11-30 17:39:00</td>\n",
       "      <td>C579886</td>\n",
       "      <td>23146</td>\n",
       "      <td>TRIPLE HOOK ANTIQUE IVORY ROSE</td>\n",
       "      <td>-1</td>\n",
       "      <td>3.29</td>\n",
       "      <td>15676.0</td>\n",
       "      <td>50</td>\n",
       "      <td>male</td>\n",
       "      <td>42712.949947</td>\n",
       "      <td>United Kingdom</td>\n",
       "    </tr>\n",
       "    <tr>\n",
       "      <th>516381</th>\n",
       "      <td>2011-11-30 17:42:00</td>\n",
       "      <td>C579887</td>\n",
       "      <td>84946</td>\n",
       "      <td>ANTIQUE SILVER T-LIGHT GLASS</td>\n",
       "      <td>-1</td>\n",
       "      <td>1.25</td>\n",
       "      <td>16717.0</td>\n",
       "      <td>27</td>\n",
       "      <td>female</td>\n",
       "      <td>31161.429914</td>\n",
       "      <td>United Kingdom</td>\n",
       "    </tr>\n",
       "    <tr>\n",
       "      <th>516382</th>\n",
       "      <td>2011-11-30 17:42:00</td>\n",
       "      <td>C579887</td>\n",
       "      <td>85048</td>\n",
       "      <td>15CM CHRISTMAS GLASS BALL 20 LIGHTS</td>\n",
       "      <td>-1</td>\n",
       "      <td>7.95</td>\n",
       "      <td>16717.0</td>\n",
       "      <td>27</td>\n",
       "      <td>female</td>\n",
       "      <td>31161.429914</td>\n",
       "      <td>United Kingdom</td>\n",
       "    </tr>\n",
       "    <tr>\n",
       "      <th>516383</th>\n",
       "      <td>2011-11-30 17:42:00</td>\n",
       "      <td>C579887</td>\n",
       "      <td>23490</td>\n",
       "      <td>T-LIGHT HOLDER HANGING LOVE BIRD</td>\n",
       "      <td>-3</td>\n",
       "      <td>3.75</td>\n",
       "      <td>16717.0</td>\n",
       "      <td>27</td>\n",
       "      <td>female</td>\n",
       "      <td>31161.429914</td>\n",
       "      <td>United Kingdom</td>\n",
       "    </tr>\n",
       "  </tbody>\n",
       "</table>\n",
       "<p>8892 rows × 11 columns</p>\n",
       "</div>"
      ],
      "text/plain": [
       "                InvoiceDate InvoiceNo StockCode  \\\n",
       "141     2010-12-01 09:41:00   C536379         D   \n",
       "154     2010-12-01 09:49:00   C536383    35004C   \n",
       "235     2010-12-01 10:24:00   C536391     22556   \n",
       "236     2010-12-01 10:24:00   C536391     21984   \n",
       "237     2010-12-01 10:24:00   C536391     21983   \n",
       "...                     ...       ...       ...   \n",
       "516379  2011-11-30 17:39:00   C579886     22197   \n",
       "516380  2011-11-30 17:39:00   C579886     23146   \n",
       "516381  2011-11-30 17:42:00   C579887     84946   \n",
       "516382  2011-11-30 17:42:00   C579887     85048   \n",
       "516383  2011-11-30 17:42:00   C579887     23490   \n",
       "\n",
       "                                Description  Quantity  UnitPrice  CustomerID  \\\n",
       "141                                Discount        -1      27.50     14527.0   \n",
       "154         SET OF 3 COLOURED  FLYING DUCKS        -1       4.65     15311.0   \n",
       "235          PLASTERS IN TIN CIRCUS PARADE        -12       1.65     17548.0   \n",
       "236        PACK OF 12 PINK PAISLEY TISSUES        -24       0.29     17548.0   \n",
       "237        PACK OF 12 BLUE PAISLEY TISSUES        -24       0.29     17548.0   \n",
       "...                                     ...       ...        ...         ...   \n",
       "516379                       POPCORN HOLDER        -1       0.85     15676.0   \n",
       "516380       TRIPLE HOOK ANTIQUE IVORY ROSE        -1       3.29     15676.0   \n",
       "516381         ANTIQUE SILVER T-LIGHT GLASS        -1       1.25     16717.0   \n",
       "516382  15CM CHRISTMAS GLASS BALL 20 LIGHTS        -1       7.95     16717.0   \n",
       "516383     T-LIGHT HOLDER HANGING LOVE BIRD        -3       3.75     16717.0   \n",
       "\n",
       "        Age  Gender        Income         Country  \n",
       "141      35  female  30268.760531  United Kingdom  \n",
       "154      38  female  33513.444454  United Kingdom  \n",
       "235      17    male  20649.029315  United Kingdom  \n",
       "236      17    male  20649.029315  United Kingdom  \n",
       "237      17    male  20649.029315  United Kingdom  \n",
       "...     ...     ...           ...             ...  \n",
       "516379   50    male  42712.949947  United Kingdom  \n",
       "516380   50    male  42712.949947  United Kingdom  \n",
       "516381   27  female  31161.429914  United Kingdom  \n",
       "516382   27  female  31161.429914  United Kingdom  \n",
       "516383   27  female  31161.429914  United Kingdom  \n",
       "\n",
       "[8892 rows x 11 columns]"
      ]
     },
     "execution_count": 6,
     "metadata": {},
     "output_type": "execute_result"
    }
   ],
   "source": [
    "# Номера операций/заказов (InvoiceNo), начинающиеся с символа 'C', который указывает на возвращенные или отмененные заказы\n",
    "df[df['InvoiceNo'].str.startswith('C') == True]"
   ]
  },
  {
   "cell_type": "code",
   "execution_count": 7,
   "id": "9b58b8cc-43f4-473d-a8ca-2b82c2d884b9",
   "metadata": {},
   "outputs": [],
   "source": [
    "# Удаление всех номеров операций (InvoiceNo), начинающихся с символа 'C'\n",
    "df = df[df['InvoiceNo'].str.startswith('C') != True]"
   ]
  },
  {
   "cell_type": "code",
   "execution_count": 8,
   "id": "89e6a3e8-ecbd-4610-9b4d-4e6947da3a90",
   "metadata": {},
   "outputs": [
    {
     "data": {
      "text/plain": [
       "21195"
      ]
     },
     "execution_count": 8,
     "metadata": {},
     "output_type": "execute_result"
    }
   ],
   "source": [
    "# Проверка количества уникальных номеров операций (InvoiceNo)\n",
    "df.InvoiceNo.nunique()"
   ]
  },
  {
   "cell_type": "markdown",
   "id": "0cc7c969-c067-49d3-bad3-89766deec230",
   "metadata": {},
   "source": [
    "## Столбец 2 StockCode"
   ]
  },
  {
   "cell_type": "code",
   "execution_count": 9,
   "id": "664d4ad0-3e65-4d27-bc89-c7fe92fa867d",
   "metadata": {},
   "outputs": [
    {
     "data": {
      "text/plain": [
       "4056"
      ]
     },
     "execution_count": 9,
     "metadata": {},
     "output_type": "execute_result"
    }
   ],
   "source": [
    "# Проверка количества уникальных биржевых кодов-идентификаторов (StockCode) среди всех записей о продажах\n",
    "df.StockCode.nunique()"
   ]
  },
  {
   "cell_type": "code",
   "execution_count": 10,
   "id": "64168ce0-4a0f-4516-94ad-499e58f6a82c",
   "metadata": {},
   "outputs": [
    {
     "data": {
      "text/plain": [
       "StockCode\n",
       "85123A    2192\n",
       "85099B    2058\n",
       "22423     1951\n",
       "47566     1672\n",
       "20725     1538\n",
       "84879     1430\n",
       "22720     1354\n",
       "22197     1350\n",
       "21212     1315\n",
       "22383     1274\n",
       "Name: count, dtype: int64"
      ]
     },
     "execution_count": 10,
     "metadata": {},
     "output_type": "execute_result"
    }
   ],
   "source": [
    "# Топ-10 биржевых кодов-идентификаторов (StockCode), которые продавались чаще всего\n",
    "df.StockCode.value_counts().head(10)"
   ]
  },
  {
   "cell_type": "markdown",
   "id": "c2406afe-e170-44d5-a0e5-6c4ea103c56e",
   "metadata": {},
   "source": [
    "## Столбец 3 Description"
   ]
  },
  {
   "cell_type": "code",
   "execution_count": 11,
   "id": "d3a7e41e-aa64-4dc6-8ace-63b59293801a",
   "metadata": {},
   "outputs": [
    {
     "data": {
      "text/plain": [
       "4198"
      ]
     },
     "execution_count": 11,
     "metadata": {},
     "output_type": "execute_result"
    }
   ],
   "source": [
    "# Проверка количества уникальных описаний товаров (Description) среди всех записей о продажах\n",
    "df.Description.nunique()"
   ]
  },
  {
   "cell_type": "code",
   "execution_count": 12,
   "id": "66e754f1-7dc3-4905-a3d3-1f9ca6ff7e9a",
   "metadata": {},
   "outputs": [
    {
     "data": {
      "text/plain": [
       "Description\n",
       "WHITE HANGING HEART T-LIGHT HOLDER    2253\n",
       "JUMBO BAG RED RETROSPOT               2058\n",
       "REGENCY CAKESTAND 3 TIER              1948\n",
       "PARTY BUNTING                         1672\n",
       "LUNCH BAG RED RETROSPOT               1537\n",
       "ASSORTED COLOUR BIRD ORNAMENT         1429\n",
       "SET OF 3 CAKE TINS PANTRY DESIGN      1350\n",
       "PACK OF 72 RETROSPOT CAKE CASES       1315\n",
       "LUNCH BAG  BLACK SKULL.               1254\n",
       "JUMBO BAG PINK POLKADOT               1210\n",
       "Name: count, dtype: int64"
      ]
     },
     "execution_count": 12,
     "metadata": {},
     "output_type": "execute_result"
    }
   ],
   "source": [
    "# Топ-10 проданных \"описаний\" товаров (Description)\n",
    "df.Description.value_counts().head(10)"
   ]
  },
  {
   "cell_type": "markdown",
   "id": "fa083982-aa18-4baa-8286-334ede7e3fb8",
   "metadata": {},
   "source": [
    "Обратим внимание, что бывают записи, в которых описания товаров (Description) содержат некоторую информацию, не относящуюся к продажам. "
   ]
  },
  {
   "cell_type": "code",
   "execution_count": 13,
   "id": "88525f88-2386-4bef-8aff-53cc2a6c85e3",
   "metadata": {},
   "outputs": [
    {
     "data": {
      "text/html": [
       "<div>\n",
       "<style scoped>\n",
       "    .dataframe tbody tr th:only-of-type {\n",
       "        vertical-align: middle;\n",
       "    }\n",
       "\n",
       "    .dataframe tbody tr th {\n",
       "        vertical-align: top;\n",
       "    }\n",
       "\n",
       "    .dataframe thead th {\n",
       "        text-align: right;\n",
       "    }\n",
       "</style>\n",
       "<table border=\"1\" class=\"dataframe\">\n",
       "  <thead>\n",
       "    <tr style=\"text-align: right;\">\n",
       "      <th></th>\n",
       "      <th>InvoiceDate</th>\n",
       "      <th>InvoiceNo</th>\n",
       "      <th>StockCode</th>\n",
       "      <th>Description</th>\n",
       "      <th>Quantity</th>\n",
       "      <th>UnitPrice</th>\n",
       "      <th>CustomerID</th>\n",
       "      <th>Age</th>\n",
       "      <th>Gender</th>\n",
       "      <th>Income</th>\n",
       "      <th>Country</th>\n",
       "    </tr>\n",
       "  </thead>\n",
       "  <tbody>\n",
       "    <tr>\n",
       "      <th>7313</th>\n",
       "      <td>2010-12-03 16:50:00</td>\n",
       "      <td>537032</td>\n",
       "      <td>21275</td>\n",
       "      <td>?</td>\n",
       "      <td>-30</td>\n",
       "      <td>0.0</td>\n",
       "      <td>NaN</td>\n",
       "      <td>25</td>\n",
       "      <td>female</td>\n",
       "      <td>32130.475292</td>\n",
       "      <td>United Kingdom</td>\n",
       "    </tr>\n",
       "    <tr>\n",
       "      <th>21518</th>\n",
       "      <td>2010-12-09 14:48:00</td>\n",
       "      <td>538090</td>\n",
       "      <td>20956</td>\n",
       "      <td>?</td>\n",
       "      <td>-723</td>\n",
       "      <td>0.0</td>\n",
       "      <td>NaN</td>\n",
       "      <td>25</td>\n",
       "      <td>female</td>\n",
       "      <td>32130.475292</td>\n",
       "      <td>United Kingdom</td>\n",
       "    </tr>\n",
       "    <tr>\n",
       "      <th>38261</th>\n",
       "      <td>2010-12-20 10:36:00</td>\n",
       "      <td>539494</td>\n",
       "      <td>21479</td>\n",
       "      <td>?</td>\n",
       "      <td>752</td>\n",
       "      <td>0.0</td>\n",
       "      <td>NaN</td>\n",
       "      <td>25</td>\n",
       "      <td>female</td>\n",
       "      <td>32130.475292</td>\n",
       "      <td>United Kingdom</td>\n",
       "    </tr>\n",
       "    <tr>\n",
       "      <th>43662</th>\n",
       "      <td>2011-01-04 16:53:00</td>\n",
       "      <td>540100</td>\n",
       "      <td>22837</td>\n",
       "      <td>?</td>\n",
       "      <td>-106</td>\n",
       "      <td>0.0</td>\n",
       "      <td>NaN</td>\n",
       "      <td>25</td>\n",
       "      <td>female</td>\n",
       "      <td>32130.475292</td>\n",
       "      <td>United Kingdom</td>\n",
       "    </tr>\n",
       "    <tr>\n",
       "      <th>50806</th>\n",
       "      <td>2011-01-10 10:04:00</td>\n",
       "      <td>540558</td>\n",
       "      <td>21258</td>\n",
       "      <td>?</td>\n",
       "      <td>-29</td>\n",
       "      <td>0.0</td>\n",
       "      <td>NaN</td>\n",
       "      <td>25</td>\n",
       "      <td>female</td>\n",
       "      <td>32130.475292</td>\n",
       "      <td>United Kingdom</td>\n",
       "    </tr>\n",
       "    <tr>\n",
       "      <th>...</th>\n",
       "      <td>...</td>\n",
       "      <td>...</td>\n",
       "      <td>...</td>\n",
       "      <td>...</td>\n",
       "      <td>...</td>\n",
       "      <td>...</td>\n",
       "      <td>...</td>\n",
       "      <td>...</td>\n",
       "      <td>...</td>\n",
       "      <td>...</td>\n",
       "      <td>...</td>\n",
       "    </tr>\n",
       "    <tr>\n",
       "      <th>472842</th>\n",
       "      <td>2011-11-16 13:11:00</td>\n",
       "      <td>576765</td>\n",
       "      <td>22219</td>\n",
       "      <td>???lost</td>\n",
       "      <td>-550</td>\n",
       "      <td>0.0</td>\n",
       "      <td>NaN</td>\n",
       "      <td>25</td>\n",
       "      <td>female</td>\n",
       "      <td>32130.475292</td>\n",
       "      <td>United Kingdom</td>\n",
       "    </tr>\n",
       "    <tr>\n",
       "      <th>493686</th>\n",
       "      <td>2011-11-23 12:37:00</td>\n",
       "      <td>578245</td>\n",
       "      <td>22568</td>\n",
       "      <td>?? missing</td>\n",
       "      <td>-170</td>\n",
       "      <td>0.0</td>\n",
       "      <td>NaN</td>\n",
       "      <td>25</td>\n",
       "      <td>female</td>\n",
       "      <td>32130.475292</td>\n",
       "      <td>United Kingdom</td>\n",
       "    </tr>\n",
       "    <tr>\n",
       "      <th>497819</th>\n",
       "      <td>2011-11-24 12:45:00</td>\n",
       "      <td>578476</td>\n",
       "      <td>72807B</td>\n",
       "      <td>????missing</td>\n",
       "      <td>-124</td>\n",
       "      <td>0.0</td>\n",
       "      <td>NaN</td>\n",
       "      <td>25</td>\n",
       "      <td>female</td>\n",
       "      <td>32130.475292</td>\n",
       "      <td>United Kingdom</td>\n",
       "    </tr>\n",
       "    <tr>\n",
       "      <th>497820</th>\n",
       "      <td>2011-11-24 12:45:00</td>\n",
       "      <td>578477</td>\n",
       "      <td>72807A</td>\n",
       "      <td>???missing</td>\n",
       "      <td>-224</td>\n",
       "      <td>0.0</td>\n",
       "      <td>NaN</td>\n",
       "      <td>25</td>\n",
       "      <td>female</td>\n",
       "      <td>32130.475292</td>\n",
       "      <td>United Kingdom</td>\n",
       "    </tr>\n",
       "    <tr>\n",
       "      <th>497821</th>\n",
       "      <td>2011-11-24 12:45:00</td>\n",
       "      <td>578478</td>\n",
       "      <td>72807C</td>\n",
       "      <td>???missing</td>\n",
       "      <td>-428</td>\n",
       "      <td>0.0</td>\n",
       "      <td>NaN</td>\n",
       "      <td>25</td>\n",
       "      <td>female</td>\n",
       "      <td>32130.475292</td>\n",
       "      <td>United Kingdom</td>\n",
       "    </tr>\n",
       "  </tbody>\n",
       "</table>\n",
       "<p>65 rows × 11 columns</p>\n",
       "</div>"
      ],
      "text/plain": [
       "                InvoiceDate InvoiceNo StockCode  Description  Quantity  \\\n",
       "7313    2010-12-03 16:50:00    537032     21275            ?       -30   \n",
       "21518   2010-12-09 14:48:00    538090     20956            ?      -723   \n",
       "38261   2010-12-20 10:36:00    539494     21479            ?       752   \n",
       "43662   2011-01-04 16:53:00    540100     22837            ?      -106   \n",
       "50806   2011-01-10 10:04:00    540558     21258            ?       -29   \n",
       "...                     ...       ...       ...          ...       ...   \n",
       "472842  2011-11-16 13:11:00    576765     22219      ???lost      -550   \n",
       "493686  2011-11-23 12:37:00    578245     22568   ?? missing      -170   \n",
       "497819  2011-11-24 12:45:00    578476    72807B  ????missing      -124   \n",
       "497820  2011-11-24 12:45:00    578477    72807A   ???missing      -224   \n",
       "497821  2011-11-24 12:45:00    578478    72807C   ???missing      -428   \n",
       "\n",
       "        UnitPrice  CustomerID  Age  Gender        Income         Country  \n",
       "7313          0.0         NaN   25  female  32130.475292  United Kingdom  \n",
       "21518         0.0         NaN   25  female  32130.475292  United Kingdom  \n",
       "38261         0.0         NaN   25  female  32130.475292  United Kingdom  \n",
       "43662         0.0         NaN   25  female  32130.475292  United Kingdom  \n",
       "50806         0.0         NaN   25  female  32130.475292  United Kingdom  \n",
       "...           ...         ...  ...     ...           ...             ...  \n",
       "472842        0.0         NaN   25  female  32130.475292  United Kingdom  \n",
       "493686        0.0         NaN   25  female  32130.475292  United Kingdom  \n",
       "497819        0.0         NaN   25  female  32130.475292  United Kingdom  \n",
       "497820        0.0         NaN   25  female  32130.475292  United Kingdom  \n",
       "497821        0.0         NaN   25  female  32130.475292  United Kingdom  \n",
       "\n",
       "[65 rows x 11 columns]"
      ]
     },
     "execution_count": 13,
     "metadata": {},
     "output_type": "execute_result"
    }
   ],
   "source": [
    "# Проверка данных, где записи описаний (Description) состоят из '?' или начинаются с '?'\n",
    "df[df['Description'].str.startswith('?') == True]"
   ]
  },
  {
   "cell_type": "code",
   "execution_count": 14,
   "id": "1c05613e-d069-4950-b881-390634702ced",
   "metadata": {},
   "outputs": [],
   "source": [
    "# Заметим, что при этом CustomerId = NaN и цена за единицу товара UnitPrice = 0\n",
    "# Удаление всех полученных записей\n",
    "df = df[df['Description'].str.startswith('?') != True]"
   ]
  },
  {
   "cell_type": "code",
   "execution_count": 15,
   "id": "95c0e991-7d41-4316-afad-434245375173",
   "metadata": {},
   "outputs": [
    {
     "data": {
      "text/html": [
       "<div>\n",
       "<style scoped>\n",
       "    .dataframe tbody tr th:only-of-type {\n",
       "        vertical-align: middle;\n",
       "    }\n",
       "\n",
       "    .dataframe tbody tr th {\n",
       "        vertical-align: top;\n",
       "    }\n",
       "\n",
       "    .dataframe thead th {\n",
       "        text-align: right;\n",
       "    }\n",
       "</style>\n",
       "<table border=\"1\" class=\"dataframe\">\n",
       "  <thead>\n",
       "    <tr style=\"text-align: right;\">\n",
       "      <th></th>\n",
       "      <th>InvoiceDate</th>\n",
       "      <th>InvoiceNo</th>\n",
       "      <th>StockCode</th>\n",
       "      <th>Description</th>\n",
       "      <th>Quantity</th>\n",
       "      <th>UnitPrice</th>\n",
       "      <th>CustomerID</th>\n",
       "      <th>Age</th>\n",
       "      <th>Gender</th>\n",
       "      <th>Income</th>\n",
       "      <th>Country</th>\n",
       "    </tr>\n",
       "  </thead>\n",
       "  <tbody>\n",
       "    <tr>\n",
       "      <th>20749</th>\n",
       "      <td>2010-12-09 14:09:00</td>\n",
       "      <td>538071</td>\n",
       "      <td>21120</td>\n",
       "      <td>*Boombox Ipod Classic</td>\n",
       "      <td>1</td>\n",
       "      <td>16.98</td>\n",
       "      <td>NaN</td>\n",
       "      <td>25</td>\n",
       "      <td>female</td>\n",
       "      <td>32130.475292</td>\n",
       "      <td>United Kingdom</td>\n",
       "    </tr>\n",
       "    <tr>\n",
       "      <th>35675</th>\n",
       "      <td>2010-12-17 14:54:00</td>\n",
       "      <td>539437</td>\n",
       "      <td>20954</td>\n",
       "      <td>*USB Office Mirror Ball</td>\n",
       "      <td>1</td>\n",
       "      <td>8.47</td>\n",
       "      <td>NaN</td>\n",
       "      <td>25</td>\n",
       "      <td>female</td>\n",
       "      <td>32130.475292</td>\n",
       "      <td>United Kingdom</td>\n",
       "    </tr>\n",
       "    <tr>\n",
       "      <th>37095</th>\n",
       "      <td>2010-12-17 17:08:00</td>\n",
       "      <td>539453</td>\n",
       "      <td>20954</td>\n",
       "      <td>*USB Office Mirror Ball</td>\n",
       "      <td>1</td>\n",
       "      <td>8.47</td>\n",
       "      <td>NaN</td>\n",
       "      <td>25</td>\n",
       "      <td>female</td>\n",
       "      <td>32130.475292</td>\n",
       "      <td>United Kingdom</td>\n",
       "    </tr>\n",
       "  </tbody>\n",
       "</table>\n",
       "</div>"
      ],
      "text/plain": [
       "               InvoiceDate InvoiceNo StockCode              Description  \\\n",
       "20749  2010-12-09 14:09:00    538071     21120    *Boombox Ipod Classic   \n",
       "35675  2010-12-17 14:54:00    539437     20954  *USB Office Mirror Ball   \n",
       "37095  2010-12-17 17:08:00    539453     20954  *USB Office Mirror Ball   \n",
       "\n",
       "       Quantity  UnitPrice  CustomerID  Age  Gender        Income  \\\n",
       "20749         1      16.98         NaN   25  female  32130.475292   \n",
       "35675         1       8.47         NaN   25  female  32130.475292   \n",
       "37095         1       8.47         NaN   25  female  32130.475292   \n",
       "\n",
       "              Country  \n",
       "20749  United Kingdom  \n",
       "35675  United Kingdom  \n",
       "37095  United Kingdom  "
      ]
     },
     "execution_count": 15,
     "metadata": {},
     "output_type": "execute_result"
    }
   ],
   "source": [
    "# Проверяем данных, где записи описаний (Description) начинаются с '*' \n",
    "df[df['Description'].str.startswith('*') == True]"
   ]
  },
  {
   "cell_type": "code",
   "execution_count": 16,
   "id": "d9352125-2e71-4e43-b933-8099465cb0f7",
   "metadata": {},
   "outputs": [],
   "source": [
    "# Заметим, что при этом CustomerId = NaN\n",
    "# Изменение записей на соответствующие описания (Description) без символа '*' и перевод в верхний регистр, как и во всех остальных записях\n",
    "df['Description'] = df['Description'].replace(('*Boombox Ipod Classic','*USB Office Mirror Ball'),\n",
    "                                             ('BOOMBOX IPOD CLASSIC','USB OFFICE MIRROR BALL'))"
   ]
  },
  {
   "cell_type": "code",
   "execution_count": 17,
   "id": "7dccc734-c97a-45f9-b85e-82feb2bd4a0e",
   "metadata": {},
   "outputs": [
    {
     "data": {
      "text/plain": [
       "Description\n",
       "check                                  146\n",
       "damaged                                 43\n",
       "damages                                 42\n",
       "found                                   24\n",
       "sold as set on dotcom                   20\n",
       "                                      ... \n",
       "wrong code                               1\n",
       "wrong code?                              1\n",
       "did  a credit  and did not tick ret      1\n",
       "sold as 22467                            1\n",
       "lost??                                   1\n",
       "Name: count, Length: 113, dtype: int64"
      ]
     },
     "execution_count": 17,
     "metadata": {},
     "output_type": "execute_result"
    }
   ],
   "source": [
    "# В описаниях товаров (Description) есть записи строчными (в нижнем регистре) буквами - это \"шумы\" в датасете, которые можно удалить\n",
    "df[df['Description'].str.islower() == True]['Description'].value_counts()"
   ]
  },
  {
   "cell_type": "code",
   "execution_count": 18,
   "id": "d6d2e487-50be-4a72-9839-4ee7de739ae4",
   "metadata": {},
   "outputs": [],
   "source": [
    "# Удаление всех найденных неподходящих записей-\"шумов\"\n",
    "df = df[df['Description'].str.islower() != True]"
   ]
  },
  {
   "cell_type": "code",
   "execution_count": 19,
   "id": "d53a5538-9f54-4c58-9485-1a1c5fbe9f43",
   "metadata": {},
   "outputs": [
    {
     "data": {
      "text/plain": [
       "Description\n",
       "Manual                   315\n",
       "Next Day Carriage         69\n",
       "Damaged                   14\n",
       "Bank Charges              11\n",
       "Found                      8\n",
       "Amazon                     4\n",
       "High Resolution Image      3\n",
       "Adjustment                 2\n",
       "Dagamed                    1\n",
       "Damages                    1\n",
       "Breakages                  1\n",
       "Amazon Adjustment          1\n",
       "Show Samples               1\n",
       "Crushed                    1\n",
       "Missing                    1\n",
       "Display                    1\n",
       "Dotcom                     1\n",
       "John Lewis                 1\n",
       "Name: count, dtype: int64"
      ]
     },
     "execution_count": 19,
     "metadata": {},
     "output_type": "execute_result"
    }
   ],
   "source": [
    "# В описаниях товаров (Description) есть записи, \n",
    "# которые начинаются с заглавной буквы и не соответствуют типу большинства записей - это \"шумы\" в датасете, которые можно удалить\n",
    "df[df['Description'].str.istitle() == True]['Description'].value_counts()"
   ]
  },
  {
   "cell_type": "code",
   "execution_count": 20,
   "id": "ca2e60f9-03d2-495d-926c-753ce557f990",
   "metadata": {},
   "outputs": [],
   "source": [
    "# Удаление всех найденных неподходящих записей-\"шумов\"\n",
    "df = df[df['Description'].str.istitle() != True]"
   ]
  },
  {
   "cell_type": "code",
   "execution_count": 21,
   "id": "319e983b-982b-49bc-8e54-2d5644bc143b",
   "metadata": {},
   "outputs": [],
   "source": [
    "# Преобразование записей описаний (Description) к единому виду, удалив лишние пробелы с начала и конца строки\n",
    "df['Description'] = df['Description'].str.strip()"
   ]
  },
  {
   "cell_type": "markdown",
   "id": "cecf56f6-f9ce-497d-b727-13309241c69e",
   "metadata": {},
   "source": [
    "## Столбец 4 Quantity"
   ]
  },
  {
   "cell_type": "code",
   "execution_count": 22,
   "id": "627d10b8-b2b1-49fc-b56e-6465152eda30",
   "metadata": {},
   "outputs": [],
   "source": [
    "# Посмотрим на описательные статистики количества (Quantity) в первичном обзоре датасета\n",
    "# Заметим, что существуют отрицательные значения, которые могут указывать на отмененные/возвращенные заказы\n",
    "\n",
    "# Оставим только те записи, у которых положительные значения количества (Quantity), что по нашему предположению говорит о совершенных заказах\n",
    "df = df[df['Quantity'] >= 0]"
   ]
  },
  {
   "cell_type": "markdown",
   "id": "306df0a1-def1-487a-af8d-40abd578b33b",
   "metadata": {},
   "source": [
    "## Столбец 5 UnitPrice"
   ]
  },
  {
   "cell_type": "code",
   "execution_count": 23,
   "id": "4018983e-abfb-49dc-9212-9e2758d52225",
   "metadata": {},
   "outputs": [
    {
     "data": {
      "text/plain": [
       "count    500654.000000\n",
       "mean          3.716555\n",
       "std          38.644772\n",
       "min      -11062.060000\n",
       "25%           1.250000\n",
       "50%           2.080000\n",
       "75%           4.130000\n",
       "85%           5.790000\n",
       "95%           9.950000\n",
       "99%          16.980000\n",
       "max       13541.330000\n",
       "Name: UnitPrice, dtype: float64"
      ]
     },
     "execution_count": 23,
     "metadata": {},
     "output_type": "execute_result"
    }
   ],
   "source": [
    "# Посмотрим на распределение значений цены за единицу товара (UnitPrice) по перцентилям\n",
    "df.UnitPrice.describe(percentiles = [0.25, 0.5, 0.75, 0.85,0.95, 0.99])"
   ]
  },
  {
   "cell_type": "code",
   "execution_count": 24,
   "id": "86a49c7b-8d2c-4943-876c-5fdc46794c2a",
   "metadata": {},
   "outputs": [],
   "source": [
    "# Удаление записей с нулевой ценой за единицу товара (UnitPrice = 0)\n",
    "df = df[df['UnitPrice'] != 0.0]"
   ]
  },
  {
   "cell_type": "markdown",
   "id": "a1bd9e58-d9b8-48bf-871b-ae9e1a376588",
   "metadata": {},
   "source": [
    "## Столбец 6 CustomerID"
   ]
  },
  {
   "cell_type": "code",
   "execution_count": 25,
   "id": "ef51cb2d-a382-4436-9c65-b45f185207f1",
   "metadata": {},
   "outputs": [
    {
     "data": {
      "text/plain": [
       "4293"
      ]
     },
     "execution_count": 25,
     "metadata": {},
     "output_type": "execute_result"
    }
   ],
   "source": [
    "# Проверка количество уникальных идентификаторов клиентов (CustomerID)\n",
    "df.CustomerID.nunique()"
   ]
  },
  {
   "cell_type": "code",
   "execution_count": 26,
   "id": "add13cb2-d5b6-410d-b1d8-cb6c68053bcf",
   "metadata": {},
   "outputs": [
    {
     "data": {
      "text/html": [
       "<div>\n",
       "<style scoped>\n",
       "    .dataframe tbody tr th:only-of-type {\n",
       "        vertical-align: middle;\n",
       "    }\n",
       "\n",
       "    .dataframe tbody tr th {\n",
       "        vertical-align: top;\n",
       "    }\n",
       "\n",
       "    .dataframe thead th {\n",
       "        text-align: right;\n",
       "    }\n",
       "</style>\n",
       "<table border=\"1\" class=\"dataframe\">\n",
       "  <thead>\n",
       "    <tr style=\"text-align: right;\">\n",
       "      <th></th>\n",
       "      <th>InvoiceDate</th>\n",
       "      <th>InvoiceNo</th>\n",
       "      <th>StockCode</th>\n",
       "      <th>Description</th>\n",
       "      <th>Quantity</th>\n",
       "      <th>UnitPrice</th>\n",
       "      <th>CustomerID</th>\n",
       "      <th>Age</th>\n",
       "      <th>Gender</th>\n",
       "      <th>Income</th>\n",
       "      <th>Country</th>\n",
       "    </tr>\n",
       "  </thead>\n",
       "  <tbody>\n",
       "    <tr>\n",
       "      <th>1443</th>\n",
       "      <td>2010-12-01 14:32:00</td>\n",
       "      <td>536544</td>\n",
       "      <td>21773</td>\n",
       "      <td>DECORATIVE ROSE BATHROOM BOTTLE</td>\n",
       "      <td>1</td>\n",
       "      <td>2.51</td>\n",
       "      <td>NaN</td>\n",
       "      <td>25</td>\n",
       "      <td>female</td>\n",
       "      <td>32130.475292</td>\n",
       "      <td>United Kingdom</td>\n",
       "    </tr>\n",
       "    <tr>\n",
       "      <th>1444</th>\n",
       "      <td>2010-12-01 14:32:00</td>\n",
       "      <td>536544</td>\n",
       "      <td>21774</td>\n",
       "      <td>DECORATIVE CATS BATHROOM BOTTLE</td>\n",
       "      <td>2</td>\n",
       "      <td>2.51</td>\n",
       "      <td>NaN</td>\n",
       "      <td>25</td>\n",
       "      <td>female</td>\n",
       "      <td>32130.475292</td>\n",
       "      <td>United Kingdom</td>\n",
       "    </tr>\n",
       "    <tr>\n",
       "      <th>1445</th>\n",
       "      <td>2010-12-01 14:32:00</td>\n",
       "      <td>536544</td>\n",
       "      <td>21786</td>\n",
       "      <td>POLKADOT RAIN HAT</td>\n",
       "      <td>4</td>\n",
       "      <td>0.85</td>\n",
       "      <td>NaN</td>\n",
       "      <td>25</td>\n",
       "      <td>female</td>\n",
       "      <td>32130.475292</td>\n",
       "      <td>United Kingdom</td>\n",
       "    </tr>\n",
       "    <tr>\n",
       "      <th>1446</th>\n",
       "      <td>2010-12-01 14:32:00</td>\n",
       "      <td>536544</td>\n",
       "      <td>21787</td>\n",
       "      <td>RAIN PONCHO RETROSPOT</td>\n",
       "      <td>2</td>\n",
       "      <td>1.66</td>\n",
       "      <td>NaN</td>\n",
       "      <td>25</td>\n",
       "      <td>female</td>\n",
       "      <td>32130.475292</td>\n",
       "      <td>United Kingdom</td>\n",
       "    </tr>\n",
       "    <tr>\n",
       "      <th>1447</th>\n",
       "      <td>2010-12-01 14:32:00</td>\n",
       "      <td>536544</td>\n",
       "      <td>21790</td>\n",
       "      <td>VINTAGE SNAP CARDS</td>\n",
       "      <td>9</td>\n",
       "      <td>1.66</td>\n",
       "      <td>NaN</td>\n",
       "      <td>25</td>\n",
       "      <td>female</td>\n",
       "      <td>32130.475292</td>\n",
       "      <td>United Kingdom</td>\n",
       "    </tr>\n",
       "    <tr>\n",
       "      <th>...</th>\n",
       "      <td>...</td>\n",
       "      <td>...</td>\n",
       "      <td>...</td>\n",
       "      <td>...</td>\n",
       "      <td>...</td>\n",
       "      <td>...</td>\n",
       "      <td>...</td>\n",
       "      <td>...</td>\n",
       "      <td>...</td>\n",
       "      <td>...</td>\n",
       "      <td>...</td>\n",
       "    </tr>\n",
       "    <tr>\n",
       "      <th>515863</th>\n",
       "      <td>2011-11-30 15:33:00</td>\n",
       "      <td>579787</td>\n",
       "      <td>21888</td>\n",
       "      <td>BINGO SET</td>\n",
       "      <td>2</td>\n",
       "      <td>7.46</td>\n",
       "      <td>NaN</td>\n",
       "      <td>25</td>\n",
       "      <td>female</td>\n",
       "      <td>32130.475292</td>\n",
       "      <td>United Kingdom</td>\n",
       "    </tr>\n",
       "    <tr>\n",
       "      <th>515864</th>\n",
       "      <td>2011-11-30 15:33:00</td>\n",
       "      <td>579787</td>\n",
       "      <td>21912</td>\n",
       "      <td>VINTAGE SNAKES &amp; LADDERS</td>\n",
       "      <td>1</td>\n",
       "      <td>7.46</td>\n",
       "      <td>NaN</td>\n",
       "      <td>25</td>\n",
       "      <td>female</td>\n",
       "      <td>32130.475292</td>\n",
       "      <td>United Kingdom</td>\n",
       "    </tr>\n",
       "    <tr>\n",
       "      <th>515865</th>\n",
       "      <td>2011-11-30 15:33:00</td>\n",
       "      <td>579787</td>\n",
       "      <td>21916</td>\n",
       "      <td>SET 12 RETRO WHITE CHALK STICKS</td>\n",
       "      <td>1</td>\n",
       "      <td>0.79</td>\n",
       "      <td>NaN</td>\n",
       "      <td>25</td>\n",
       "      <td>female</td>\n",
       "      <td>32130.475292</td>\n",
       "      <td>United Kingdom</td>\n",
       "    </tr>\n",
       "    <tr>\n",
       "      <th>515866</th>\n",
       "      <td>2011-11-30 15:33:00</td>\n",
       "      <td>579787</td>\n",
       "      <td>21929</td>\n",
       "      <td>JUMBO BAG PINK VINTAGE PAISLEY</td>\n",
       "      <td>1</td>\n",
       "      <td>4.13</td>\n",
       "      <td>NaN</td>\n",
       "      <td>25</td>\n",
       "      <td>female</td>\n",
       "      <td>32130.475292</td>\n",
       "      <td>United Kingdom</td>\n",
       "    </tr>\n",
       "    <tr>\n",
       "      <th>515867</th>\n",
       "      <td>2011-11-30 15:33:00</td>\n",
       "      <td>579787</td>\n",
       "      <td>21930</td>\n",
       "      <td>JUMBO STORAGE BAG SKULLS</td>\n",
       "      <td>2</td>\n",
       "      <td>4.13</td>\n",
       "      <td>NaN</td>\n",
       "      <td>25</td>\n",
       "      <td>female</td>\n",
       "      <td>32130.475292</td>\n",
       "      <td>United Kingdom</td>\n",
       "    </tr>\n",
       "  </tbody>\n",
       "</table>\n",
       "<p>124343 rows × 11 columns</p>\n",
       "</div>"
      ],
      "text/plain": [
       "                InvoiceDate InvoiceNo StockCode  \\\n",
       "1443    2010-12-01 14:32:00    536544     21773   \n",
       "1444    2010-12-01 14:32:00    536544     21774   \n",
       "1445    2010-12-01 14:32:00    536544     21786   \n",
       "1446    2010-12-01 14:32:00    536544     21787   \n",
       "1447    2010-12-01 14:32:00    536544     21790   \n",
       "...                     ...       ...       ...   \n",
       "515863  2011-11-30 15:33:00    579787     21888   \n",
       "515864  2011-11-30 15:33:00    579787     21912   \n",
       "515865  2011-11-30 15:33:00    579787     21916   \n",
       "515866  2011-11-30 15:33:00    579787     21929   \n",
       "515867  2011-11-30 15:33:00    579787     21930   \n",
       "\n",
       "                            Description  Quantity  UnitPrice  CustomerID  Age  \\\n",
       "1443    DECORATIVE ROSE BATHROOM BOTTLE         1       2.51         NaN   25   \n",
       "1444    DECORATIVE CATS BATHROOM BOTTLE         2       2.51         NaN   25   \n",
       "1445                  POLKADOT RAIN HAT         4       0.85         NaN   25   \n",
       "1446              RAIN PONCHO RETROSPOT         2       1.66         NaN   25   \n",
       "1447                 VINTAGE SNAP CARDS         9       1.66         NaN   25   \n",
       "...                                 ...       ...        ...         ...  ...   \n",
       "515863                        BINGO SET         2       7.46         NaN   25   \n",
       "515864         VINTAGE SNAKES & LADDERS         1       7.46         NaN   25   \n",
       "515865  SET 12 RETRO WHITE CHALK STICKS         1       0.79         NaN   25   \n",
       "515866   JUMBO BAG PINK VINTAGE PAISLEY         1       4.13         NaN   25   \n",
       "515867         JUMBO STORAGE BAG SKULLS         2       4.13         NaN   25   \n",
       "\n",
       "        Gender        Income         Country  \n",
       "1443    female  32130.475292  United Kingdom  \n",
       "1444    female  32130.475292  United Kingdom  \n",
       "1445    female  32130.475292  United Kingdom  \n",
       "1446    female  32130.475292  United Kingdom  \n",
       "1447    female  32130.475292  United Kingdom  \n",
       "...        ...           ...             ...  \n",
       "515863  female  32130.475292  United Kingdom  \n",
       "515864  female  32130.475292  United Kingdom  \n",
       "515865  female  32130.475292  United Kingdom  \n",
       "515866  female  32130.475292  United Kingdom  \n",
       "515867  female  32130.475292  United Kingdom  \n",
       "\n",
       "[124343 rows x 11 columns]"
      ]
     },
     "execution_count": 26,
     "metadata": {},
     "output_type": "execute_result"
    }
   ],
   "source": [
    "# Проверка записей, в которых идентификатор клиента (CustomerID) имеет пустые значения\n",
    "df[df.CustomerID.isnull()]"
   ]
  },
  {
   "cell_type": "code",
   "execution_count": 27,
   "id": "d7e790ee-22b5-4206-bce8-8376404e7586",
   "metadata": {},
   "outputs": [],
   "source": [
    "# Удаление записей, в которых идентификатор клиента (CustomerID) имеет пустые значения\n",
    "df = df[~df.CustomerID.isnull()]"
   ]
  },
  {
   "cell_type": "markdown",
   "id": "05d8f75f-238a-414e-a593-c63d921e699e",
   "metadata": {},
   "source": [
    "## Столбец 7 Age"
   ]
  },
  {
   "cell_type": "code",
   "execution_count": 28,
   "id": "401c7d88-cd4e-4feb-ac45-52ce43ee486d",
   "metadata": {},
   "outputs": [
    {
     "data": {
      "text/plain": [
       "Age\n",
       "28    0.043529\n",
       "44    0.041155\n",
       "33    0.040454\n",
       "29    0.038387\n",
       "42    0.035887\n",
       "        ...   \n",
       "76    0.000099\n",
       "85    0.000085\n",
       "89    0.000083\n",
       "86    0.000059\n",
       "97    0.000037\n",
       "Name: proportion, Length: 80, dtype: float64"
      ]
     },
     "execution_count": 28,
     "metadata": {},
     "output_type": "execute_result"
    }
   ],
   "source": [
    "# Проверка количества уникальных совпадений по возрастам клиентов (Age) среди всех записей\n",
    "df.Age.value_counts(normalize = True)"
   ]
  },
  {
   "cell_type": "code",
   "execution_count": 29,
   "id": "8cd16440-3c10-49e3-af0d-1b48348dd522",
   "metadata": {},
   "outputs": [
    {
     "data": {
      "text/plain": [
       "(23.5, 32.0]      0.267180\n",
       "(32.0, 40.5]      0.223081\n",
       "(40.5, 49.0]      0.202607\n",
       "(14.914, 23.5]    0.116434\n",
       "(49.0, 57.5]      0.089336\n",
       "(57.5, 66.0]      0.074434\n",
       "(66.0, 74.5]      0.019024\n",
       "(74.5, 83.0]      0.002883\n",
       "(83.0, 91.5]      0.002806\n",
       "(91.5, 100.0]     0.002214\n",
       "Name: proportion, dtype: float64"
      ]
     },
     "execution_count": 29,
     "metadata": {},
     "output_type": "execute_result"
    }
   ],
   "source": [
    "# Проверка количества уникальных совпадений по возрастам клиентов (Age) среди всех записей, \n",
    "# сгруппированных по 10 отрезкам возрастов (Age) по убыванию\n",
    "df.Age.value_counts(normalize = True, bins = 10)"
   ]
  },
  {
   "cell_type": "code",
   "execution_count": 30,
   "id": "7414503c-dac2-4ec4-ac53-46c0ac8f2c1e",
   "metadata": {},
   "outputs": [
    {
     "data": {
      "text/plain": [
       "Age\n",
       "28    16337\n",
       "44    15446\n",
       "33    15183\n",
       "29    14407\n",
       "42    13469\n",
       "26    12567\n",
       "35    12296\n",
       "27    11717\n",
       "45    10904\n",
       "32    10830\n",
       "Name: count, dtype: int64"
      ]
     },
     "execution_count": 30,
     "metadata": {},
     "output_type": "execute_result"
    }
   ],
   "source": [
    "# Топ-10 возрастов клиентов (Age)\n",
    "df.Age.value_counts().head(10)"
   ]
  },
  {
   "cell_type": "markdown",
   "id": "829efe2f-7ade-4cd5-928f-c38ed9ac0d04",
   "metadata": {},
   "source": [
    "## Столбец 8 Gender"
   ]
  },
  {
   "cell_type": "code",
   "execution_count": 31,
   "id": "2a9ccaac-5ece-4950-8bf8-b8faa86d83e0",
   "metadata": {},
   "outputs": [
    {
     "data": {
      "text/plain": [
       "Gender\n",
       "female    0.649569\n",
       "male      0.350431\n",
       "Name: proportion, dtype: float64"
      ]
     },
     "execution_count": 31,
     "metadata": {},
     "output_type": "execute_result"
    }
   ],
   "source": [
    "# Проверка количества уникальных совпадений по полу клиентов (Gender) среди всех записей\n",
    "df.Gender.value_counts(normalize = True)"
   ]
  },
  {
   "cell_type": "markdown",
   "id": "f443a210-e1eb-448b-820d-8e7e398b96de",
   "metadata": {},
   "source": [
    "## Столбец 9 Income"
   ]
  },
  {
   "cell_type": "code",
   "execution_count": 32,
   "id": "c027a1f6-c3e8-4a5f-9d53-37c9d69c68b3",
   "metadata": {},
   "outputs": [
    {
     "data": {
      "text/plain": [
       "Income\n",
       "32904.146809    0.019195\n",
       "32584.481215    0.014252\n",
       "42889.070502    0.012209\n",
       "31798.776856    0.010940\n",
       "31798.349432    0.006866\n",
       "                  ...   \n",
       "33368.292910    0.000003\n",
       "34402.492658    0.000003\n",
       "42802.803797    0.000003\n",
       "33923.638207    0.000003\n",
       "31410.720362    0.000003\n",
       "Name: proportion, Length: 4293, dtype: float64"
      ]
     },
     "execution_count": 32,
     "metadata": {},
     "output_type": "execute_result"
    }
   ],
   "source": [
    "# Проверка количества уникальных совпадений по доходу клиентов (Income) среди всех записей\n",
    "df.Income.value_counts(normalize = True)"
   ]
  },
  {
   "cell_type": "code",
   "execution_count": 33,
   "id": "fc93e818-1934-4502-93d9-f37807e49cc4",
   "metadata": {},
   "outputs": [
    {
     "data": {
      "text/plain": [
       "(32293.966, 35020.214]    0.445275\n",
       "(29567.718, 32293.966]    0.154687\n",
       "(40472.71, 43198.958]     0.151192\n",
       "(18635.462, 21388.974]    0.122570\n",
       "(43198.958, 45925.206]    0.057619\n",
       "(37746.462, 40472.71]     0.033716\n",
       "(35020.214, 37746.462]    0.012637\n",
       "(26841.47, 29567.718]     0.011457\n",
       "(24115.222, 26841.47]     0.007159\n",
       "(21388.974, 24115.222]    0.003688\n",
       "Name: proportion, dtype: float64"
      ]
     },
     "execution_count": 33,
     "metadata": {},
     "output_type": "execute_result"
    }
   ],
   "source": [
    "# Проверка количества уникальных совпадений по доходу клиентов (Income) среди всех записей, \n",
    "# сгруппированных по 10 отрезкам доходов клиентов (Income) по убыванию\n",
    "df.Income.value_counts(normalize = True, bins = 10)"
   ]
  },
  {
   "cell_type": "markdown",
   "id": "8da4747c-aa9b-4699-9ddd-281cdaf9b2ab",
   "metadata": {},
   "source": [
    "## Столбец 10 Country"
   ]
  },
  {
   "cell_type": "code",
   "execution_count": 34,
   "id": "47750410-9dab-43c7-9641-79706b9bdd0f",
   "metadata": {},
   "outputs": [
    {
     "data": {
      "text/plain": [
       "Country\n",
       "United Kingdom          0.888229\n",
       "Germany                 0.023178\n",
       "France                  0.021308\n",
       "EIRE                    0.018398\n",
       "Spain                   0.006432\n",
       "Netherlands             0.006056\n",
       "Belgium                 0.005161\n",
       "Switzerland             0.004905\n",
       "Portugal                0.003584\n",
       "Australia               0.003147\n",
       "Norway                  0.002651\n",
       "Italy                   0.001998\n",
       "Channel Islands         0.001974\n",
       "Finland                 0.001788\n",
       "Cyprus                  0.001604\n",
       "Sweden                  0.001194\n",
       "Austria                 0.001042\n",
       "Denmark                 0.000983\n",
       "Poland                  0.000879\n",
       "Japan                   0.000855\n",
       "Israel                  0.000653\n",
       "Unspecified             0.000642\n",
       "Singapore               0.000573\n",
       "Iceland                 0.000456\n",
       "Canada                  0.000402\n",
       "USA                     0.000392\n",
       "Malta                   0.000298\n",
       "Greece                  0.000290\n",
       "United Arab Emirates    0.000181\n",
       "European Community      0.000160\n",
       "RSA                     0.000152\n",
       "Lebanon                 0.000120\n",
       "Lithuania               0.000093\n",
       "Brazil                  0.000085\n",
       "Czech Republic          0.000067\n",
       "Bahrain                 0.000045\n",
       "Saudi Arabia            0.000024\n",
       "Name: proportion, dtype: float64"
      ]
     },
     "execution_count": 34,
     "metadata": {},
     "output_type": "execute_result"
    }
   ],
   "source": [
    "# Проверка количества уникальных совпадений по стране (Country) среди всех записей\n",
    "df.Country.value_counts(normalize = True)"
   ]
  },
  {
   "cell_type": "code",
   "execution_count": 35,
   "id": "3f440e0f-81cc-4e19-97c2-a781e04a6445",
   "metadata": {},
   "outputs": [],
   "source": [
    "# Заметим, около 90% записей о стране (Country) относятся к Великобратании (United Kingdom)\n",
    "# Разделим все записи о странах (Country) на две категории: \"United Kingdom\" и \"Others\", которая будет объединять все остальные страны\n",
    "df['Country'] = df['Country'].apply(lambda x: 'United Kingdom' if x == 'United Kingdom' else 'Others')"
   ]
  },
  {
   "cell_type": "code",
   "execution_count": 36,
   "id": "bdbfa89b-5ae4-4511-ab03-3246f876dcf0",
   "metadata": {},
   "outputs": [
    {
     "data": {
      "text/plain": [
       "Country\n",
       "United Kingdom    0.888229\n",
       "Others            0.111771\n",
       "Name: proportion, dtype: float64"
      ]
     },
     "execution_count": 36,
     "metadata": {},
     "output_type": "execute_result"
    }
   ],
   "source": [
    "# Заново выполним проверку количества уникальных совпадений по стране (Country) среди всех записей\n",
    "df.Country.value_counts(normalize = True)"
   ]
  },
  {
   "cell_type": "markdown",
   "id": "d12c65a5-2fb0-4c28-bd71-dafebe26489e",
   "metadata": {},
   "source": [
    "# Вторичный обзор датасета после базовой чистки данных\n"
   ]
  },
  {
   "cell_type": "code",
   "execution_count": 37,
   "id": "e45ce729-f3af-4f63-982d-e6a116afbde3",
   "metadata": {},
   "outputs": [
    {
     "name": "stdout",
     "output_type": "stream",
     "text": [
      "---------------------------------------- HEAD OF DATAFRAME ----------------------------------------- \n",
      "            InvoiceDate InvoiceNo StockCode  \\\n",
      "0  2010-12-01 08:26:00    536365    85123A   \n",
      "1  2010-12-01 08:26:00    536365     71053   \n",
      "2  2010-12-01 08:26:00    536365    84406B   \n",
      "3  2010-12-01 08:26:00    536365    84029G   \n",
      "4  2010-12-01 08:26:00    536365    84029E   \n",
      "\n",
      "                           Description  Quantity  UnitPrice  CustomerID  Age  \\\n",
      "0   WHITE HANGING HEART T-LIGHT HOLDER         6       2.55     17850.0   77   \n",
      "1                  WHITE METAL LANTERN         6       3.39     17850.0   77   \n",
      "2       CREAM CUPID HEARTS COAT HANGER         8       2.75     17850.0   77   \n",
      "3  KNITTED UNION FLAG HOT WATER BOTTLE         6       3.39     17850.0   77   \n",
      "4       RED WOOLLY HOTTIE WHITE HEART.         6       3.39     17850.0   77   \n",
      "\n",
      "   Gender        Income         Country  \n",
      "0  female  26300.794657  United Kingdom  \n",
      "1  female  26300.794657  United Kingdom  \n",
      "2  female  26300.794657  United Kingdom  \n",
      "3  female  26300.794657  United Kingdom  \n",
      "4  female  26300.794657  United Kingdom  \n",
      "---------------------------------------- INFO OF DATAFRAME -----------------------------------------\n",
      "<class 'pandas.core.frame.DataFrame'>\n",
      "Index: 375312 entries, 0 to 516368\n",
      "Data columns (total 11 columns):\n",
      " #   Column       Non-Null Count   Dtype  \n",
      "---  ------       --------------   -----  \n",
      " 0   InvoiceDate  375312 non-null  object \n",
      " 1   InvoiceNo    375312 non-null  object \n",
      " 2   StockCode    375312 non-null  object \n",
      " 3   Description  375312 non-null  object \n",
      " 4   Quantity     375312 non-null  int64  \n",
      " 5   UnitPrice    375312 non-null  float64\n",
      " 6   CustomerID   375312 non-null  float64\n",
      " 7   Age          375312 non-null  int64  \n",
      " 8   Gender       375312 non-null  object \n",
      " 9   Income       375312 non-null  float64\n",
      " 10  Country      375312 non-null  object \n",
      "dtypes: float64(3), int64(2), object(6)\n",
      "memory usage: 34.4+ MB\n",
      "---------------------------------------------- SHAPE ----------------------------------------------- \n",
      " Rows: 375312 \n",
      " Columns: 11\n",
      "---------------------------------------------- TYPES ----------------------------------------------- \n",
      " InvoiceDate     object\n",
      "InvoiceNo       object\n",
      "StockCode       object\n",
      "Description     object\n",
      "Quantity         int64\n",
      "UnitPrice      float64\n",
      "CustomerID     float64\n",
      "Age              int64\n",
      "Gender          object\n",
      "Income         float64\n",
      "Country         object\n",
      "dtype: object\n",
      "---------------------------------------- NUMBER OF UNIQUES ----------------------------------------- \n",
      " InvoiceDate    16511\n",
      "InvoiceNo      17677\n",
      "StockCode       3653\n",
      "Description     3853\n",
      "Quantity         291\n",
      "UnitPrice        375\n",
      "CustomerID      4293\n",
      "Age               80\n",
      "Gender             2\n",
      "Income          4293\n",
      "Country            2\n",
      "dtype: int64\n",
      "------------------------------------------ MISSING VALUES ------------------------------------------ \n",
      " There are no missing values.\n",
      "---------------------------------------- DUPLICATED VALUES ----------------------------------------- \n",
      " There are no duplicate values.\n",
      "-------------------------------------- DESCRIPTIVE STATISTICS -------------------------------------- \n",
      "                count          mean          std           min           25%  \\\n",
      "Quantity    375312.0     12.946634   128.545882      1.000000      2.000000   \n",
      "UnitPrice   375312.0      3.011345    15.142939      0.001000      1.250000   \n",
      "CustomerID  375312.0  15286.739268  1712.925788  12346.000000  13952.000000   \n",
      "Age         375312.0     38.148133    13.492512     15.000000     28.000000   \n",
      "Income      375312.0  33449.983047  6464.240539  18662.725643  32029.371629   \n",
      "\n",
      "                     50%          75%           max  \n",
      "Quantity        6.000000     12.00000  74215.000000  \n",
      "UnitPrice       1.950000      3.75000   8142.750000  \n",
      "CustomerID  15152.000000  16788.00000  18287.000000  \n",
      "Age            36.000000     45.00000    100.000000  \n",
      "Income      32992.043135  35186.80949  45925.206366  \n"
     ]
    }
   ],
   "source": [
    "# Вывод обзора датасета с помощью той же написанной функции\n",
    "overview_df(df)"
   ]
  },
  {
   "cell_type": "markdown",
   "id": "7a7bb452-3ace-4e1c-a2c1-a91f1aa4c944",
   "metadata": {},
   "source": [
    "# Исследовательский анализ данных (Exploratory Data Analysis - EDA) \n"
   ]
  },
  {
   "cell_type": "code",
   "execution_count": null,
   "id": "c5e604de-7e69-4ed6-9919-1469d3995b5a",
   "metadata": {},
   "outputs": [],
   "source": []
  },
  {
   "cell_type": "markdown",
   "id": "66b867c2-ed47-4151-a84f-79af07a47318",
   "metadata": {},
   "source": [
    "# Когортный анализ\n"
   ]
  },
  {
   "cell_type": "markdown",
   "id": "f7dc0ecf-27f9-462e-80ff-e9e034df4fd5",
   "metadata": {},
   "source": [
    "# RFM-анализ\n"
   ]
  }
 ],
 "metadata": {
  "kernelspec": {
   "display_name": "Python 3 (ipykernel)",
   "language": "python",
   "name": "python3"
  },
  "language_info": {
   "codemirror_mode": {
    "name": "ipython",
    "version": 3
   },
   "file_extension": ".py",
   "mimetype": "text/x-python",
   "name": "python",
   "nbconvert_exporter": "python",
   "pygments_lexer": "ipython3",
   "version": "3.12.3"
  }
 },
 "nbformat": 4,
 "nbformat_minor": 5
}
